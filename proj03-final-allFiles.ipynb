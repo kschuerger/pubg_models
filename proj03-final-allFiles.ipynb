{
 "cells": [
  {
   "cell_type": "markdown",
   "metadata": {},
   "source": [
    "# **ML1 PROJECT 3** <br/>\n",
    "Kati Schuerger, Will Sherman, Randy Kim"
   ]
  },
  {
   "cell_type": "markdown",
   "metadata": {},
   "source": [
    "# **INTRODUCTION** <br/>\n",
    "*Assingment: This section is not part of the rubric; meaning, there is no formal assignment for this \"introduction\" section. This can be used to provide some additional information regarding what the reader can find in the following project.*"
   ]
  },
  {
   "cell_type": "markdown",
   "metadata": {},
   "source": [
    "<div class=\"alert alert-block alert-info\">\n",
    "<b><h2>Rubric Components</h2>\n",
    "    </b>\n",
    "</div>"
   ]
  },
  {
   "cell_type": "markdown",
   "metadata": {},
   "source": [
    "<a id='TOP'></a>"
   ]
  },
  {
   "cell_type": "markdown",
   "metadata": {},
   "source": [
    "• [Business Understanding](#BUSINESS_UNDERSTANDING)\n",
    "\n",
    "• [Data Understanding 1](#DATA_UNDERSTANDING_1)\n",
    "\n",
    "• [Data Understanding 2](#DATA_UNDERSTANDING_2)\n",
    "\n",
    "• [Modeling and Evaluation 1](#ME1)\n",
    "\n",
    "• [Modeling and Evaluation 2](#ME2)\n",
    "\n",
    "• [Modeling and Evaluation 3](#ME3)\n",
    "\n",
    "• [Modeling and Evaluation 4](#ME4)\n",
    "\n",
    "• [Deployment](#DEPLOYMENT)\n",
    "\n",
    "• [Exceptional Work](#EXCEPTIONAL)\n",
    "\n",
    "• [Appendix](#APPENDIX)"
   ]
  },
  {
   "cell_type": "markdown",
   "metadata": {},
   "source": [
    "## PROJECT OBJECTIVES"
   ]
  },
  {
   "cell_type": "markdown",
   "metadata": {},
   "source": [
    "### Prediction task\n",
    "\n",
    "We will be building our models to solve a classification problem (classification task) = predict `quart_binary` (0/1). This variable is equal to 1 when the player's score is in the 4th quantile."
   ]
  },
  {
   "cell_type": "markdown",
   "metadata": {},
   "source": [
    "### Data volume <br/>\n",
    "*Try to use as much testing data as possible in a realistic manner.*\n",
    "\n",
    "For hyperparameter tuning, we used a subset of our training data, because we ran into very lengthy run-time when attempting to perform tuning on the full training set. To help decrease the run-time, a subsample of 10% of the train data was made. This will still represent about 270,000 records, which is sufficient for our analysis and modeling. \n",
    "\n",
    "As long as the sample size is greater than 30, we can leverage the CLT, which allows us to make inferences about our population by using a sampling of the data."
   ]
  },
  {
   "cell_type": "markdown",
   "metadata": {},
   "source": [
    "<a id='BUSINESS_UNDERSTANDING'></a>"
   ]
  },
  {
   "cell_type": "markdown",
   "metadata": {},
   "source": [
    "# **BUSINESS UNDERSTANDING**\n",
    "\n",
    "Jump to [Top](#TOP)"
   ]
  },
  {
   "cell_type": "markdown",
   "metadata": {},
   "source": [
    "*Assignment: Describe the purpose of the data set you selected (i.e., why was this data collected in the first place?). How will you measure the effectiveness of a good algorithm? Why does your chosen validation method make sense for this specific\n",
    "dataset and the stakeholders needs?*"
   ]
  },
  {
   "cell_type": "markdown",
   "metadata": {
    "id": "xF52Ysn0tH2w"
   },
   "source": [
    "The **PlayerUnknown’s Battleground** (also known as PUBG) **Finish Placement Prediction** Kaggle competition was posted to \"create a model which predicts players' finishing placement based on their final stats, on a scale from 1 (first place) to 0 (last place).\" This competition utilized publicly available official game data from PUBG through the PUBG Developer API. The questions of interest (QOI) were about the best strategy to win in PUBG, the best skillset, and to be able to model ranking in-game. The dataset provided was a breakdown of post-game metrics and percentile winning placement: with 4446966 records and 29 total features.\n",
    "\n",
    "https://www.kaggle.com/c/pubg-finish-placement-prediction/data\n",
    "\n",
    "Utilizing the `winPlacePerc` (continuous variable), our approach was to create a binary prediction evaluation: `quart_binary` (categorical variable). `winPlacePerc` is a ranking of a \"players' finishing placement based on their final stats, on a scale from 1 (first place) to 0 (last place).\" `quart_binary` will be utilized for evaluating whether clustering improves prediction capability.\n",
    "\n",
    "For this clustering and classification task, we will measure accuracy in combination with 10-fold cross-validation.\n",
    "\n",
    "Possible uses:\n",
    "\n",
    "\"Creating forecasting algorithms for online sports is not new. Therefore, the combination of the two measures could be related to optimizing a sports betting algorithms. You could also use these models for building and managing an effective team for tournaments. For example, the PUBG Global Championship 2021 Grand Finals had combined prize value of over 2 million USD.\" (Kim, Schuerger, Sherman. Lab 1)"
   ]
  },
  {
   "cell_type": "markdown",
   "metadata": {},
   "source": [
    "# **DATA UNDERSTANDING 1**"
   ]
  },
  {
   "cell_type": "markdown",
   "metadata": {},
   "source": [
    "<a id='DATA_UNDERSTANDING_1'></a>"
   ]
  },
  {
   "cell_type": "markdown",
   "metadata": {},
   "source": [
    "*Assignment: Describe the meaning and type of data (scale, values, etc.) for each attribute in the data file. Verify data quality: Are there missing values? Duplicate data? Outliers? Are those mistakes? How do you deal with these problems?*"
   ]
  },
  {
   "cell_type": "markdown",
   "metadata": {},
   "source": [
    "## DATA PRE-PROCESSING 1\n",
    "\n",
    "Jump to [Top](#TOP)\n",
    "\n",
    "### Set up environment"
   ]
  },
  {
   "cell_type": "code",
   "execution_count": 1,
   "metadata": {},
   "outputs": [],
   "source": [
    "# load libraries\n",
    "import csv\n",
    "import numpy as np\n",
    "import pandas as pd\n",
    "import seaborn as sns\n",
    "import matplotlib.pyplot as plt\n",
    "import plotly.express as px\n",
    "from sklearn.discriminant_analysis import LinearDiscriminantAnalysis as LDA\n",
    "from sklearn import model_selection\n",
    "from sklearn.model_selection import train_test_split, cross_val_score, RandomizedSearchCV\n",
    "from sklearn.linear_model import LogisticRegression, Lasso\n",
    "from sklearn import metrics as mt\n",
    "from sklearn.pipeline import Pipeline\n",
    "from sklearn.preprocessing import StandardScaler\n",
    "from sklearn.ensemble import RandomForestClassifier\n",
    "from sklearn.svm import SVC\n",
    "from sklearn.linear_model import LinearRegression\n",
    "from sklearn.neighbors import KNeighborsRegressor\n",
    "from sklearn.tree import DecisionTreeRegressor\n",
    "from sklearn.model_selection import GridSearchCV\n",
    "from sklearn.decomposition import PCA\n",
    "import statistics\n",
    "import time\n",
    "\n",
    "# import libraries to clean up CopyWarning\n",
    "import warnings\n",
    "from pandas.core.common import SettingWithCopyWarning\n",
    "warnings.simplefilter(action=\"ignore\", category=SettingWithCopyWarning)"
   ]
  },
  {
   "cell_type": "markdown",
   "metadata": {},
   "source": [
    "### Load in data"
   ]
  },
  {
   "cell_type": "code",
   "execution_count": null,
   "metadata": {},
   "outputs": [],
   "source": [
    "# load in the data\n",
    "pubg_raw = pd.read_csv(\"train_V2.csv\")\n",
    "\n",
    "# for kati local run\n",
    "# pubg_raw = pd.read_csv(r\"C:\\Users\\kschue200\\OneDrive - Comcast\\Documents\\00 SMU\\06 machine learning1\\mini lab\\train_V2.csv\")\n",
    "\n",
    "# for will local run\n",
    "# pubg_raw = pd.read_csv(r\"C:\\Users\\sherm\\OneDrive\\Documents\\Grad School - Classes\\MSDS - 7331 - Machine Learning I\\Lab 1\\pubg-finish-placement-prediction\\train_V2.csv\")"
   ]
  },
  {
   "cell_type": "markdown",
   "metadata": {},
   "source": [
    "### Reduce memory usage"
   ]
  },
  {
   "cell_type": "code",
   "execution_count": 3,
   "metadata": {},
   "outputs": [],
   "source": [
    "# this logic iterates through the x_tune to reduce memory usage\n",
    "# code adapted from https://www.kaggle.com/yansun1996/gbr-ipynb\n",
    "# additional reference: https://www.kaggle.com/gemartin/load-data-reduce-memory-usage\n",
    "\n",
    "def reduce_mem_usage(df):\n",
    "    '''\n",
    "    iterate through all the columns of a dataframe and modify the data type\n",
    "    to reduce memory usage.        \n",
    "    '''\n",
    "    start_mem = df.memory_usage().sum() / 1024**2\n",
    "    print('Memory usage of dataframe is {:.2f} MB'.format(start_mem))\n",
    "    for col in df.columns:\n",
    "        col_type = df[col].dtype\n",
    "        if col_type != object:\n",
    "            c_min = df[col].min()\n",
    "            c_max = df[col].max()\n",
    "            if str(col_type)[:3] == 'int':\n",
    "                if c_min > np.iinfo(np.int8).min and c_max < np.iinfo(np.int8).max:\n",
    "                    df[col] = df[col].astype(np.int8)\n",
    "                elif c_min > np.iinfo(np.int16).min and c_max < np.iinfo(np.int16).max:\n",
    "                    df[col] = df[col].astype(np.int16)\n",
    "                elif c_min > np.iinfo(np.int32).min and c_max < np.iinfo(np.int32).max:\n",
    "                    df[col] = df[col].astype(np.int32)\n",
    "                elif c_min > np.iinfo(np.int64).min and c_max < np.iinfo(np.int64).max:\n",
    "                    df[col] = df[col].astype(np.int64)  \n",
    "            else:\n",
    "                if c_min > np.finfo(np.float16).min and c_max < np.finfo(np.float16).max:\n",
    "                    df[col] = df[col].astype(np.float16)\n",
    "                elif c_min > np.finfo(np.float32).min and c_max < np.finfo(np.float32).max:\n",
    "                    df[col] = df[col].astype(np.float32)\n",
    "                else:\n",
    "                    df[col] = df[col].astype(np.float64)\n",
    "    end_mem = df.memory_usage().sum() / 1024**2\n",
    "    print('Memory usage after optimization is: {:.2f} MB'.format(end_mem))\n",
    "    print('Decreased by {:.1f}%'.format(100 * (start_mem - end_mem) / start_mem))\n",
    "    return df"
   ]
  },
  {
   "cell_type": "code",
   "execution_count": 4,
   "metadata": {},
   "outputs": [
    {
     "name": "stdout",
     "output_type": "stream",
     "text": [
      "Memory usage of dataframe is 983.90 MB\n",
      "Memory usage after optimization is: 288.39 MB\n",
      "Decreased by 70.7%\n"
     ]
    }
   ],
   "source": [
    "pubg_raw = reduce_mem_usage(pubg_raw)"
   ]
  },
  {
   "cell_type": "markdown",
   "metadata": {},
   "source": [
    "We have utilized the above to help reduce memory usage & improve run-times."
   ]
  },
  {
   "cell_type": "code",
   "execution_count": 5,
   "metadata": {},
   "outputs": [],
   "source": [
    "import random\n",
    "random.seed(10) #set seed"
   ]
  },
  {
   "cell_type": "markdown",
   "metadata": {},
   "source": [
    "## DATA PRE-PROCESSING 2\n",
    "\n",
    "Jump to [Top](#TOP)"
   ]
  },
  {
   "cell_type": "code",
   "execution_count": 6,
   "metadata": {},
   "outputs": [
    {
     "data": {
      "text/html": [
       "<div>\n",
       "<style scoped>\n",
       "    .dataframe tbody tr th:only-of-type {\n",
       "        vertical-align: middle;\n",
       "    }\n",
       "\n",
       "    .dataframe tbody tr th {\n",
       "        vertical-align: top;\n",
       "    }\n",
       "\n",
       "    .dataframe thead th {\n",
       "        text-align: right;\n",
       "    }\n",
       "</style>\n",
       "<table border=\"1\" class=\"dataframe\">\n",
       "  <thead>\n",
       "    <tr style=\"text-align: right;\">\n",
       "      <th></th>\n",
       "      <th>Id</th>\n",
       "      <th>groupId</th>\n",
       "      <th>matchId</th>\n",
       "      <th>assists</th>\n",
       "      <th>boosts</th>\n",
       "      <th>damageDealt</th>\n",
       "      <th>DBNOs</th>\n",
       "      <th>headshotKills</th>\n",
       "      <th>heals</th>\n",
       "      <th>killPlace</th>\n",
       "      <th>...</th>\n",
       "      <th>revives</th>\n",
       "      <th>rideDistance</th>\n",
       "      <th>roadKills</th>\n",
       "      <th>swimDistance</th>\n",
       "      <th>teamKills</th>\n",
       "      <th>vehicleDestroys</th>\n",
       "      <th>walkDistance</th>\n",
       "      <th>weaponsAcquired</th>\n",
       "      <th>winPoints</th>\n",
       "      <th>winPlacePerc</th>\n",
       "    </tr>\n",
       "  </thead>\n",
       "  <tbody>\n",
       "    <tr>\n",
       "      <th>0</th>\n",
       "      <td>7f96b2f878858a</td>\n",
       "      <td>4d4b580de459be</td>\n",
       "      <td>a10357fd1a4a91</td>\n",
       "      <td>0</td>\n",
       "      <td>0</td>\n",
       "      <td>0.00000</td>\n",
       "      <td>0</td>\n",
       "      <td>0</td>\n",
       "      <td>0</td>\n",
       "      <td>60</td>\n",
       "      <td>...</td>\n",
       "      <td>0</td>\n",
       "      <td>0.000000</td>\n",
       "      <td>0</td>\n",
       "      <td>0.000000</td>\n",
       "      <td>0</td>\n",
       "      <td>0</td>\n",
       "      <td>244.75</td>\n",
       "      <td>1</td>\n",
       "      <td>1466</td>\n",
       "      <td>0.444336</td>\n",
       "    </tr>\n",
       "    <tr>\n",
       "      <th>1</th>\n",
       "      <td>eef90569b9d03c</td>\n",
       "      <td>684d5656442f9e</td>\n",
       "      <td>aeb375fc57110c</td>\n",
       "      <td>0</td>\n",
       "      <td>0</td>\n",
       "      <td>91.50000</td>\n",
       "      <td>0</td>\n",
       "      <td>0</td>\n",
       "      <td>0</td>\n",
       "      <td>57</td>\n",
       "      <td>...</td>\n",
       "      <td>0</td>\n",
       "      <td>0.004501</td>\n",
       "      <td>0</td>\n",
       "      <td>11.039062</td>\n",
       "      <td>0</td>\n",
       "      <td>0</td>\n",
       "      <td>1434.00</td>\n",
       "      <td>5</td>\n",
       "      <td>0</td>\n",
       "      <td>0.640137</td>\n",
       "    </tr>\n",
       "    <tr>\n",
       "      <th>2</th>\n",
       "      <td>1eaf90ac73de72</td>\n",
       "      <td>6a4a42c3245a74</td>\n",
       "      <td>110163d8bb94ae</td>\n",
       "      <td>1</td>\n",
       "      <td>0</td>\n",
       "      <td>68.00000</td>\n",
       "      <td>0</td>\n",
       "      <td>0</td>\n",
       "      <td>0</td>\n",
       "      <td>47</td>\n",
       "      <td>...</td>\n",
       "      <td>0</td>\n",
       "      <td>0.000000</td>\n",
       "      <td>0</td>\n",
       "      <td>0.000000</td>\n",
       "      <td>0</td>\n",
       "      <td>0</td>\n",
       "      <td>161.75</td>\n",
       "      <td>2</td>\n",
       "      <td>0</td>\n",
       "      <td>0.775391</td>\n",
       "    </tr>\n",
       "    <tr>\n",
       "      <th>3</th>\n",
       "      <td>4616d365dd2853</td>\n",
       "      <td>a930a9c79cd721</td>\n",
       "      <td>f1f1f4ef412d7e</td>\n",
       "      <td>0</td>\n",
       "      <td>0</td>\n",
       "      <td>32.90625</td>\n",
       "      <td>0</td>\n",
       "      <td>0</td>\n",
       "      <td>0</td>\n",
       "      <td>75</td>\n",
       "      <td>...</td>\n",
       "      <td>0</td>\n",
       "      <td>0.000000</td>\n",
       "      <td>0</td>\n",
       "      <td>0.000000</td>\n",
       "      <td>0</td>\n",
       "      <td>0</td>\n",
       "      <td>202.75</td>\n",
       "      <td>3</td>\n",
       "      <td>0</td>\n",
       "      <td>0.166748</td>\n",
       "    </tr>\n",
       "    <tr>\n",
       "      <th>4</th>\n",
       "      <td>315c96c26c9aac</td>\n",
       "      <td>de04010b3458dd</td>\n",
       "      <td>6dc8ff871e21e6</td>\n",
       "      <td>0</td>\n",
       "      <td>0</td>\n",
       "      <td>100.00000</td>\n",
       "      <td>0</td>\n",
       "      <td>0</td>\n",
       "      <td>0</td>\n",
       "      <td>45</td>\n",
       "      <td>...</td>\n",
       "      <td>0</td>\n",
       "      <td>0.000000</td>\n",
       "      <td>0</td>\n",
       "      <td>0.000000</td>\n",
       "      <td>0</td>\n",
       "      <td>0</td>\n",
       "      <td>49.75</td>\n",
       "      <td>2</td>\n",
       "      <td>0</td>\n",
       "      <td>0.187500</td>\n",
       "    </tr>\n",
       "  </tbody>\n",
       "</table>\n",
       "<p>5 rows × 29 columns</p>\n",
       "</div>"
      ],
      "text/plain": [
       "               Id         groupId         matchId  assists  boosts  \\\n",
       "0  7f96b2f878858a  4d4b580de459be  a10357fd1a4a91        0       0   \n",
       "1  eef90569b9d03c  684d5656442f9e  aeb375fc57110c        0       0   \n",
       "2  1eaf90ac73de72  6a4a42c3245a74  110163d8bb94ae        1       0   \n",
       "3  4616d365dd2853  a930a9c79cd721  f1f1f4ef412d7e        0       0   \n",
       "4  315c96c26c9aac  de04010b3458dd  6dc8ff871e21e6        0       0   \n",
       "\n",
       "   damageDealt  DBNOs  headshotKills  heals  killPlace  ...  revives  \\\n",
       "0      0.00000      0              0      0         60  ...        0   \n",
       "1     91.50000      0              0      0         57  ...        0   \n",
       "2     68.00000      0              0      0         47  ...        0   \n",
       "3     32.90625      0              0      0         75  ...        0   \n",
       "4    100.00000      0              0      0         45  ...        0   \n",
       "\n",
       "   rideDistance  roadKills  swimDistance  teamKills vehicleDestroys  \\\n",
       "0      0.000000          0      0.000000          0               0   \n",
       "1      0.004501          0     11.039062          0               0   \n",
       "2      0.000000          0      0.000000          0               0   \n",
       "3      0.000000          0      0.000000          0               0   \n",
       "4      0.000000          0      0.000000          0               0   \n",
       "\n",
       "   walkDistance  weaponsAcquired  winPoints  winPlacePerc  \n",
       "0        244.75                1       1466      0.444336  \n",
       "1       1434.00                5          0      0.640137  \n",
       "2        161.75                2          0      0.775391  \n",
       "3        202.75                3          0      0.166748  \n",
       "4         49.75                2          0      0.187500  \n",
       "\n",
       "[5 rows x 29 columns]"
      ]
     },
     "execution_count": 6,
     "metadata": {},
     "output_type": "execute_result"
    }
   ],
   "source": [
    "pubg_raw.head()"
   ]
  },
  {
   "cell_type": "markdown",
   "metadata": {},
   "source": [
    "### Check for missing values"
   ]
  },
  {
   "cell_type": "code",
   "execution_count": 7,
   "metadata": {},
   "outputs": [
    {
     "name": "stdout",
     "output_type": "stream",
     "text": [
      "Column 'Id' has 0 NAs\n",
      "Column 'groupId' has 0 NAs\n",
      "Column 'matchId' has 0 NAs\n",
      "Column 'assists' has 0 NAs\n",
      "Column 'boosts' has 0 NAs\n",
      "Column 'damageDealt' has 0 NAs\n",
      "Column 'DBNOs' has 0 NAs\n",
      "Column 'headshotKills' has 0 NAs\n",
      "Column 'heals' has 0 NAs\n",
      "Column 'killPlace' has 0 NAs\n",
      "Column 'killPoints' has 0 NAs\n",
      "Column 'kills' has 0 NAs\n",
      "Column 'killStreaks' has 0 NAs\n",
      "Column 'longestKill' has 0 NAs\n",
      "Column 'matchDuration' has 0 NAs\n",
      "Column 'matchType' has 0 NAs\n",
      "Column 'maxPlace' has 0 NAs\n",
      "Column 'numGroups' has 0 NAs\n",
      "Column 'rankPoints' has 0 NAs\n",
      "Column 'revives' has 0 NAs\n",
      "Column 'rideDistance' has 0 NAs\n",
      "Column 'roadKills' has 0 NAs\n",
      "Column 'swimDistance' has 0 NAs\n",
      "Column 'teamKills' has 0 NAs\n",
      "Column 'vehicleDestroys' has 0 NAs\n",
      "Column 'walkDistance' has 0 NAs\n",
      "Column 'weaponsAcquired' has 0 NAs\n",
      "Column 'winPoints' has 0 NAs\n",
      "Column 'winPlacePerc' has 1 NAs\n"
     ]
    }
   ],
   "source": [
    "# check for misssing values\n",
    "colname = list(pubg_raw.columns)\n",
    "\n",
    "for i in range(len(pubg_raw.columns)):\n",
    "  count = pubg_raw[pubg_raw.columns[i]].isna().sum()\n",
    "  print(\"Column '{col}' has {ct} NAs\".format(col = colname[i], ct = count))"
   ]
  },
  {
   "cell_type": "code",
   "execution_count": 8,
   "metadata": {},
   "outputs": [
    {
     "data": {
      "text/html": [
       "<div>\n",
       "<style scoped>\n",
       "    .dataframe tbody tr th:only-of-type {\n",
       "        vertical-align: middle;\n",
       "    }\n",
       "\n",
       "    .dataframe tbody tr th {\n",
       "        vertical-align: top;\n",
       "    }\n",
       "\n",
       "    .dataframe thead th {\n",
       "        text-align: right;\n",
       "    }\n",
       "</style>\n",
       "<table border=\"1\" class=\"dataframe\">\n",
       "  <thead>\n",
       "    <tr style=\"text-align: right;\">\n",
       "      <th></th>\n",
       "      <th>Id</th>\n",
       "      <th>groupId</th>\n",
       "      <th>matchId</th>\n",
       "      <th>assists</th>\n",
       "      <th>boosts</th>\n",
       "      <th>damageDealt</th>\n",
       "      <th>DBNOs</th>\n",
       "      <th>headshotKills</th>\n",
       "      <th>heals</th>\n",
       "      <th>killPlace</th>\n",
       "      <th>...</th>\n",
       "      <th>revives</th>\n",
       "      <th>rideDistance</th>\n",
       "      <th>roadKills</th>\n",
       "      <th>swimDistance</th>\n",
       "      <th>teamKills</th>\n",
       "      <th>vehicleDestroys</th>\n",
       "      <th>walkDistance</th>\n",
       "      <th>weaponsAcquired</th>\n",
       "      <th>winPoints</th>\n",
       "      <th>winPlacePerc</th>\n",
       "    </tr>\n",
       "  </thead>\n",
       "  <tbody>\n",
       "    <tr>\n",
       "      <th>2744604</th>\n",
       "      <td>f70c74418bb064</td>\n",
       "      <td>12dfbede33f92b</td>\n",
       "      <td>224a123c53e008</td>\n",
       "      <td>0</td>\n",
       "      <td>0</td>\n",
       "      <td>0.0</td>\n",
       "      <td>0</td>\n",
       "      <td>0</td>\n",
       "      <td>0</td>\n",
       "      <td>1</td>\n",
       "      <td>...</td>\n",
       "      <td>0</td>\n",
       "      <td>0.0</td>\n",
       "      <td>0</td>\n",
       "      <td>0.0</td>\n",
       "      <td>0</td>\n",
       "      <td>0</td>\n",
       "      <td>0.0</td>\n",
       "      <td>0</td>\n",
       "      <td>0</td>\n",
       "      <td>NaN</td>\n",
       "    </tr>\n",
       "  </tbody>\n",
       "</table>\n",
       "<p>1 rows × 29 columns</p>\n",
       "</div>"
      ],
      "text/plain": [
       "                     Id         groupId         matchId  assists  boosts  \\\n",
       "2744604  f70c74418bb064  12dfbede33f92b  224a123c53e008        0       0   \n",
       "\n",
       "         damageDealt  DBNOs  headshotKills  heals  killPlace  ...  revives  \\\n",
       "2744604          0.0      0              0      0          1  ...        0   \n",
       "\n",
       "         rideDistance  roadKills  swimDistance  teamKills vehicleDestroys  \\\n",
       "2744604           0.0          0           0.0          0               0   \n",
       "\n",
       "         walkDistance  weaponsAcquired  winPoints  winPlacePerc  \n",
       "2744604           0.0                0          0           NaN  \n",
       "\n",
       "[1 rows x 29 columns]"
      ]
     },
     "execution_count": 8,
     "metadata": {},
     "output_type": "execute_result"
    }
   ],
   "source": [
    "# look at records with null values\n",
    "pubg_raw[pubg_raw.isna().any(axis = 1)]"
   ]
  },
  {
   "cell_type": "markdown",
   "metadata": {},
   "source": [
    "There was one missing value in `winPlacePerc` that was due to a single instance of a player who had a match with no enemy combatants. Therefore, a `winPlacePerc` was not evaluated."
   ]
  },
  {
   "cell_type": "code",
   "execution_count": 9,
   "metadata": {},
   "outputs": [
    {
     "data": {
      "text/plain": [
       "False"
      ]
     },
     "execution_count": 9,
     "metadata": {},
     "output_type": "execute_result"
    }
   ],
   "source": [
    "# CREATE PUBG_DF_STG TO INCLUDE OUR UPDATES\n",
    "# drop records with missing values (there is only one)\n",
    "pubg_df_stg = pubg_raw.dropna()\n",
    "pubg_df_stg.isnull().values.any()"
   ]
  },
  {
   "cell_type": "markdown",
   "metadata": {},
   "source": [
    "Based on our analysis, we dropped the single missing value for a match that had only 1 individual (above).\n",
    "\n",
    "We also identified **unranked** matches as creating significant issues in prediction capabilities (below). There wer matches with `rankPoints` with values of  '-1'. We resolved to remove these from our model. Therefore, our model should only be applied to **ranked** matches. "
   ]
  },
  {
   "cell_type": "code",
   "execution_count": 10,
   "metadata": {},
   "outputs": [
    {
     "name": "stdout",
     "output_type": "stream",
     "text": [
      "1701810\n",
      "0\n",
      "0\n",
      "2745155\n"
     ]
    }
   ],
   "source": [
    "# we have some records with -1 values = these take the place of NULL\n",
    "\n",
    "x = pubg_df_stg['rankPoints']\n",
    "y = pubg_df_stg['winPoints']\n",
    "z = pubg_df_stg['killPoints']\n",
    "\n",
    "print(x[x==-1].count())\n",
    "print(y[y==-1].count())\n",
    "print(z[z==-1].count())\n",
    "print(pubg_df_stg.shape[0]-x[x==-1].count())"
   ]
  },
  {
   "cell_type": "markdown",
   "metadata": {},
   "source": [
    "### Subset data - Ranked matches only"
   ]
  },
  {
   "cell_type": "code",
   "execution_count": 11,
   "metadata": {},
   "outputs": [
    {
     "data": {
      "text/html": [
       "<div>\n",
       "<style scoped>\n",
       "    .dataframe tbody tr th:only-of-type {\n",
       "        vertical-align: middle;\n",
       "    }\n",
       "\n",
       "    .dataframe tbody tr th {\n",
       "        vertical-align: top;\n",
       "    }\n",
       "\n",
       "    .dataframe thead th {\n",
       "        text-align: right;\n",
       "    }\n",
       "</style>\n",
       "<table border=\"1\" class=\"dataframe\">\n",
       "  <thead>\n",
       "    <tr style=\"text-align: right;\">\n",
       "      <th></th>\n",
       "      <th>Id</th>\n",
       "      <th>groupId</th>\n",
       "      <th>matchId</th>\n",
       "      <th>assists</th>\n",
       "      <th>boosts</th>\n",
       "      <th>damageDealt</th>\n",
       "      <th>DBNOs</th>\n",
       "      <th>headshotKills</th>\n",
       "      <th>heals</th>\n",
       "      <th>killPlace</th>\n",
       "      <th>...</th>\n",
       "      <th>revives</th>\n",
       "      <th>rideDistance</th>\n",
       "      <th>roadKills</th>\n",
       "      <th>swimDistance</th>\n",
       "      <th>teamKills</th>\n",
       "      <th>vehicleDestroys</th>\n",
       "      <th>walkDistance</th>\n",
       "      <th>weaponsAcquired</th>\n",
       "      <th>winPoints</th>\n",
       "      <th>winPlacePerc</th>\n",
       "    </tr>\n",
       "  </thead>\n",
       "  <tbody>\n",
       "    <tr>\n",
       "      <th>1</th>\n",
       "      <td>eef90569b9d03c</td>\n",
       "      <td>684d5656442f9e</td>\n",
       "      <td>aeb375fc57110c</td>\n",
       "      <td>0</td>\n",
       "      <td>0</td>\n",
       "      <td>91.50000</td>\n",
       "      <td>0</td>\n",
       "      <td>0</td>\n",
       "      <td>0</td>\n",
       "      <td>57</td>\n",
       "      <td>...</td>\n",
       "      <td>0</td>\n",
       "      <td>0.004501</td>\n",
       "      <td>0</td>\n",
       "      <td>11.039062</td>\n",
       "      <td>0</td>\n",
       "      <td>0</td>\n",
       "      <td>1434.0000</td>\n",
       "      <td>5</td>\n",
       "      <td>0</td>\n",
       "      <td>0.640137</td>\n",
       "    </tr>\n",
       "    <tr>\n",
       "      <th>2</th>\n",
       "      <td>1eaf90ac73de72</td>\n",
       "      <td>6a4a42c3245a74</td>\n",
       "      <td>110163d8bb94ae</td>\n",
       "      <td>1</td>\n",
       "      <td>0</td>\n",
       "      <td>68.00000</td>\n",
       "      <td>0</td>\n",
       "      <td>0</td>\n",
       "      <td>0</td>\n",
       "      <td>47</td>\n",
       "      <td>...</td>\n",
       "      <td>0</td>\n",
       "      <td>0.000000</td>\n",
       "      <td>0</td>\n",
       "      <td>0.000000</td>\n",
       "      <td>0</td>\n",
       "      <td>0</td>\n",
       "      <td>161.7500</td>\n",
       "      <td>2</td>\n",
       "      <td>0</td>\n",
       "      <td>0.775391</td>\n",
       "    </tr>\n",
       "    <tr>\n",
       "      <th>3</th>\n",
       "      <td>4616d365dd2853</td>\n",
       "      <td>a930a9c79cd721</td>\n",
       "      <td>f1f1f4ef412d7e</td>\n",
       "      <td>0</td>\n",
       "      <td>0</td>\n",
       "      <td>32.90625</td>\n",
       "      <td>0</td>\n",
       "      <td>0</td>\n",
       "      <td>0</td>\n",
       "      <td>75</td>\n",
       "      <td>...</td>\n",
       "      <td>0</td>\n",
       "      <td>0.000000</td>\n",
       "      <td>0</td>\n",
       "      <td>0.000000</td>\n",
       "      <td>0</td>\n",
       "      <td>0</td>\n",
       "      <td>202.7500</td>\n",
       "      <td>3</td>\n",
       "      <td>0</td>\n",
       "      <td>0.166748</td>\n",
       "    </tr>\n",
       "    <tr>\n",
       "      <th>4</th>\n",
       "      <td>315c96c26c9aac</td>\n",
       "      <td>de04010b3458dd</td>\n",
       "      <td>6dc8ff871e21e6</td>\n",
       "      <td>0</td>\n",
       "      <td>0</td>\n",
       "      <td>100.00000</td>\n",
       "      <td>0</td>\n",
       "      <td>0</td>\n",
       "      <td>0</td>\n",
       "      <td>45</td>\n",
       "      <td>...</td>\n",
       "      <td>0</td>\n",
       "      <td>0.000000</td>\n",
       "      <td>0</td>\n",
       "      <td>0.000000</td>\n",
       "      <td>0</td>\n",
       "      <td>0</td>\n",
       "      <td>49.7500</td>\n",
       "      <td>2</td>\n",
       "      <td>0</td>\n",
       "      <td>0.187500</td>\n",
       "    </tr>\n",
       "    <tr>\n",
       "      <th>5</th>\n",
       "      <td>ff79c12f326506</td>\n",
       "      <td>289a6836a88d27</td>\n",
       "      <td>bac52627a12114</td>\n",
       "      <td>0</td>\n",
       "      <td>0</td>\n",
       "      <td>100.00000</td>\n",
       "      <td>1</td>\n",
       "      <td>1</td>\n",
       "      <td>0</td>\n",
       "      <td>44</td>\n",
       "      <td>...</td>\n",
       "      <td>0</td>\n",
       "      <td>0.000000</td>\n",
       "      <td>0</td>\n",
       "      <td>0.000000</td>\n",
       "      <td>0</td>\n",
       "      <td>0</td>\n",
       "      <td>34.6875</td>\n",
       "      <td>1</td>\n",
       "      <td>0</td>\n",
       "      <td>0.036987</td>\n",
       "    </tr>\n",
       "  </tbody>\n",
       "</table>\n",
       "<p>5 rows × 29 columns</p>\n",
       "</div>"
      ],
      "text/plain": [
       "               Id         groupId         matchId  assists  boosts  \\\n",
       "1  eef90569b9d03c  684d5656442f9e  aeb375fc57110c        0       0   \n",
       "2  1eaf90ac73de72  6a4a42c3245a74  110163d8bb94ae        1       0   \n",
       "3  4616d365dd2853  a930a9c79cd721  f1f1f4ef412d7e        0       0   \n",
       "4  315c96c26c9aac  de04010b3458dd  6dc8ff871e21e6        0       0   \n",
       "5  ff79c12f326506  289a6836a88d27  bac52627a12114        0       0   \n",
       "\n",
       "   damageDealt  DBNOs  headshotKills  heals  killPlace  ...  revives  \\\n",
       "1     91.50000      0              0      0         57  ...        0   \n",
       "2     68.00000      0              0      0         47  ...        0   \n",
       "3     32.90625      0              0      0         75  ...        0   \n",
       "4    100.00000      0              0      0         45  ...        0   \n",
       "5    100.00000      1              1      0         44  ...        0   \n",
       "\n",
       "   rideDistance  roadKills  swimDistance  teamKills vehicleDestroys  \\\n",
       "1      0.004501          0     11.039062          0               0   \n",
       "2      0.000000          0      0.000000          0               0   \n",
       "3      0.000000          0      0.000000          0               0   \n",
       "4      0.000000          0      0.000000          0               0   \n",
       "5      0.000000          0      0.000000          0               0   \n",
       "\n",
       "   walkDistance  weaponsAcquired  winPoints  winPlacePerc  \n",
       "1     1434.0000                5          0      0.640137  \n",
       "2      161.7500                2          0      0.775391  \n",
       "3      202.7500                3          0      0.166748  \n",
       "4       49.7500                2          0      0.187500  \n",
       "5       34.6875                1          0      0.036987  \n",
       "\n",
       "[5 rows x 29 columns]"
      ]
     },
     "execution_count": 11,
     "metadata": {},
     "output_type": "execute_result"
    }
   ],
   "source": [
    "# SUBSET OUR DATA TO ONLY RETAIN RANKED MATCHES\n",
    "# we have some records with -1 values = take the place of NULL\n",
    "## dropping these to subset our dataset & because they represent non-ranked matches\n",
    "\n",
    "pubg_df = pubg_df_stg[(pubg_df_stg.iloc[:,:] != -1).all(axis=1)]\n",
    "pubg_df.head()"
   ]
  },
  {
   "cell_type": "markdown",
   "metadata": {},
   "source": [
    "### Check for duplicate values"
   ]
  },
  {
   "cell_type": "code",
   "execution_count": 12,
   "metadata": {},
   "outputs": [
    {
     "data": {
      "text/plain": [
       "False"
      ]
     },
     "execution_count": 12,
     "metadata": {},
     "output_type": "execute_result"
    }
   ],
   "source": [
    "# check for duplicate records\n",
    "pubg_df.duplicated().any()"
   ]
  },
  {
   "cell_type": "markdown",
   "metadata": {},
   "source": [
    "There do not appear to be any duplicate records."
   ]
  },
  {
   "cell_type": "markdown",
   "metadata": {},
   "source": [
    "### Create new features = quartiles"
   ]
  },
  {
   "cell_type": "code",
   "execution_count": 13,
   "metadata": {},
   "outputs": [
    {
     "name": "stdout",
     "output_type": "stream",
     "text": [
      "Quartile 1 threshold: 0.20\n",
      "Quartile 2 threshold: 0.46\n",
      "Quartile 3 threshold: 0.74\n"
     ]
    }
   ],
   "source": [
    "# GATHER THRESHOLDS FOR US TO SET OUR QARTILES \n",
    "# pull out the winPlacePerc column\n",
    "winPlace = pubg_df.loc[:,'winPlacePerc']\n",
    "\n",
    "# get quartile thresholds for equal allocation |\n",
    "print('Quartile 1 threshold: {:.2f}'.format(winPlace.quantile(0.25)))\n",
    "print('Quartile 2 threshold: {:.2f}'.format(winPlace.quantile(0.5)))\n",
    "print('Quartile 3 threshold: {:.2f}'.format(winPlace.quantile(0.75)))"
   ]
  },
  {
   "cell_type": "code",
   "execution_count": 14,
   "metadata": {},
   "outputs": [
    {
     "data": {
      "text/html": [
       "<div>\n",
       "<style scoped>\n",
       "    .dataframe tbody tr th:only-of-type {\n",
       "        vertical-align: middle;\n",
       "    }\n",
       "\n",
       "    .dataframe tbody tr th {\n",
       "        vertical-align: top;\n",
       "    }\n",
       "\n",
       "    .dataframe thead th {\n",
       "        text-align: right;\n",
       "    }\n",
       "</style>\n",
       "<table border=\"1\" class=\"dataframe\">\n",
       "  <thead>\n",
       "    <tr style=\"text-align: right;\">\n",
       "      <th></th>\n",
       "      <th>Id</th>\n",
       "      <th>groupId</th>\n",
       "      <th>matchId</th>\n",
       "      <th>assists</th>\n",
       "      <th>boosts</th>\n",
       "      <th>damageDealt</th>\n",
       "      <th>DBNOs</th>\n",
       "      <th>headshotKills</th>\n",
       "      <th>heals</th>\n",
       "      <th>killPlace</th>\n",
       "      <th>...</th>\n",
       "      <th>swimDistance</th>\n",
       "      <th>teamKills</th>\n",
       "      <th>vehicleDestroys</th>\n",
       "      <th>walkDistance</th>\n",
       "      <th>weaponsAcquired</th>\n",
       "      <th>winPoints</th>\n",
       "      <th>winPlacePerc</th>\n",
       "      <th>quartile</th>\n",
       "      <th>quart_int</th>\n",
       "      <th>quart_binary</th>\n",
       "    </tr>\n",
       "  </thead>\n",
       "  <tbody>\n",
       "    <tr>\n",
       "      <th>1</th>\n",
       "      <td>eef90569b9d03c</td>\n",
       "      <td>684d5656442f9e</td>\n",
       "      <td>aeb375fc57110c</td>\n",
       "      <td>0</td>\n",
       "      <td>0</td>\n",
       "      <td>91.50000</td>\n",
       "      <td>0</td>\n",
       "      <td>0</td>\n",
       "      <td>0</td>\n",
       "      <td>57</td>\n",
       "      <td>...</td>\n",
       "      <td>11.039062</td>\n",
       "      <td>0</td>\n",
       "      <td>0</td>\n",
       "      <td>1434.0000</td>\n",
       "      <td>5</td>\n",
       "      <td>0</td>\n",
       "      <td>0.640137</td>\n",
       "      <td>q3</td>\n",
       "      <td>3</td>\n",
       "      <td>0</td>\n",
       "    </tr>\n",
       "    <tr>\n",
       "      <th>2</th>\n",
       "      <td>1eaf90ac73de72</td>\n",
       "      <td>6a4a42c3245a74</td>\n",
       "      <td>110163d8bb94ae</td>\n",
       "      <td>1</td>\n",
       "      <td>0</td>\n",
       "      <td>68.00000</td>\n",
       "      <td>0</td>\n",
       "      <td>0</td>\n",
       "      <td>0</td>\n",
       "      <td>47</td>\n",
       "      <td>...</td>\n",
       "      <td>0.000000</td>\n",
       "      <td>0</td>\n",
       "      <td>0</td>\n",
       "      <td>161.7500</td>\n",
       "      <td>2</td>\n",
       "      <td>0</td>\n",
       "      <td>0.775391</td>\n",
       "      <td>q4</td>\n",
       "      <td>4</td>\n",
       "      <td>1</td>\n",
       "    </tr>\n",
       "    <tr>\n",
       "      <th>3</th>\n",
       "      <td>4616d365dd2853</td>\n",
       "      <td>a930a9c79cd721</td>\n",
       "      <td>f1f1f4ef412d7e</td>\n",
       "      <td>0</td>\n",
       "      <td>0</td>\n",
       "      <td>32.90625</td>\n",
       "      <td>0</td>\n",
       "      <td>0</td>\n",
       "      <td>0</td>\n",
       "      <td>75</td>\n",
       "      <td>...</td>\n",
       "      <td>0.000000</td>\n",
       "      <td>0</td>\n",
       "      <td>0</td>\n",
       "      <td>202.7500</td>\n",
       "      <td>3</td>\n",
       "      <td>0</td>\n",
       "      <td>0.166748</td>\n",
       "      <td>q1</td>\n",
       "      <td>1</td>\n",
       "      <td>0</td>\n",
       "    </tr>\n",
       "    <tr>\n",
       "      <th>4</th>\n",
       "      <td>315c96c26c9aac</td>\n",
       "      <td>de04010b3458dd</td>\n",
       "      <td>6dc8ff871e21e6</td>\n",
       "      <td>0</td>\n",
       "      <td>0</td>\n",
       "      <td>100.00000</td>\n",
       "      <td>0</td>\n",
       "      <td>0</td>\n",
       "      <td>0</td>\n",
       "      <td>45</td>\n",
       "      <td>...</td>\n",
       "      <td>0.000000</td>\n",
       "      <td>0</td>\n",
       "      <td>0</td>\n",
       "      <td>49.7500</td>\n",
       "      <td>2</td>\n",
       "      <td>0</td>\n",
       "      <td>0.187500</td>\n",
       "      <td>q1</td>\n",
       "      <td>1</td>\n",
       "      <td>0</td>\n",
       "    </tr>\n",
       "    <tr>\n",
       "      <th>5</th>\n",
       "      <td>ff79c12f326506</td>\n",
       "      <td>289a6836a88d27</td>\n",
       "      <td>bac52627a12114</td>\n",
       "      <td>0</td>\n",
       "      <td>0</td>\n",
       "      <td>100.00000</td>\n",
       "      <td>1</td>\n",
       "      <td>1</td>\n",
       "      <td>0</td>\n",
       "      <td>44</td>\n",
       "      <td>...</td>\n",
       "      <td>0.000000</td>\n",
       "      <td>0</td>\n",
       "      <td>0</td>\n",
       "      <td>34.6875</td>\n",
       "      <td>1</td>\n",
       "      <td>0</td>\n",
       "      <td>0.036987</td>\n",
       "      <td>q1</td>\n",
       "      <td>1</td>\n",
       "      <td>0</td>\n",
       "    </tr>\n",
       "  </tbody>\n",
       "</table>\n",
       "<p>5 rows × 32 columns</p>\n",
       "</div>"
      ],
      "text/plain": [
       "               Id         groupId         matchId  assists  boosts  \\\n",
       "1  eef90569b9d03c  684d5656442f9e  aeb375fc57110c        0       0   \n",
       "2  1eaf90ac73de72  6a4a42c3245a74  110163d8bb94ae        1       0   \n",
       "3  4616d365dd2853  a930a9c79cd721  f1f1f4ef412d7e        0       0   \n",
       "4  315c96c26c9aac  de04010b3458dd  6dc8ff871e21e6        0       0   \n",
       "5  ff79c12f326506  289a6836a88d27  bac52627a12114        0       0   \n",
       "\n",
       "   damageDealt  DBNOs  headshotKills  heals  killPlace  ...  swimDistance  \\\n",
       "1     91.50000      0              0      0         57  ...     11.039062   \n",
       "2     68.00000      0              0      0         47  ...      0.000000   \n",
       "3     32.90625      0              0      0         75  ...      0.000000   \n",
       "4    100.00000      0              0      0         45  ...      0.000000   \n",
       "5    100.00000      1              1      0         44  ...      0.000000   \n",
       "\n",
       "   teamKills  vehicleDestroys  walkDistance  weaponsAcquired winPoints  \\\n",
       "1          0                0     1434.0000                5         0   \n",
       "2          0                0      161.7500                2         0   \n",
       "3          0                0      202.7500                3         0   \n",
       "4          0                0       49.7500                2         0   \n",
       "5          0                0       34.6875                1         0   \n",
       "\n",
       "   winPlacePerc  quartile  quart_int  quart_binary  \n",
       "1      0.640137        q3          3             0  \n",
       "2      0.775391        q4          4             1  \n",
       "3      0.166748        q1          1             0  \n",
       "4      0.187500        q1          1             0  \n",
       "5      0.036987        q1          1             0  \n",
       "\n",
       "[5 rows x 32 columns]"
      ]
     },
     "execution_count": 14,
     "metadata": {},
     "output_type": "execute_result"
    }
   ],
   "source": [
    "# create new variable fields to use for our predictions (quartile, quart_int, quart_binary)\n",
    "# we will use quart_binary for our classification task in this mini-lab\n",
    "\n",
    "pubg_df['quartile'] = np.where(pubg_df.winPlacePerc < 0.20, 'q1', \n",
    "                       np.where(pubg_df.winPlacePerc < 0.46, 'q2',\n",
    "                                np.where(pubg_df.winPlacePerc < 0.74, 'q3',\n",
    "                                         np.where(pubg_df.winPlacePerc >= 0.74, 'q4',\n",
    "                                                  'other'))))\n",
    "pubg_df['quart_int'] = np.where(pubg_df.winPlacePerc < 0.20, '1', \n",
    "                       np.where(pubg_df.winPlacePerc < 0.46, '2',\n",
    "                                np.where(pubg_df.winPlacePerc < 0.74, '3',\n",
    "                                         np.where(pubg_df.winPlacePerc >= 0.74, '4',\n",
    "                                                  'other'))))\n",
    "pubg_df['quart_binary'] = np.where(pubg_df.winPlacePerc < 0.74, '0',\n",
    "                                         np.where(pubg_df.winPlacePerc >= 0.74, '1',\n",
    "                                                  'other'))\n",
    "pubg_df.head()"
   ]
  },
  {
   "cell_type": "code",
   "execution_count": 15,
   "metadata": {},
   "outputs": [
    {
     "name": "stdout",
     "output_type": "stream",
     "text": [
      "Percentage of players in Quartile 1: 24.86%\n",
      "Percentage of players in Quartile 2: 25.19%\n",
      "Percentage of players in Quartile 3: 24.55%\n",
      "Percentage of players in Quartile 4: 25.41%\n",
      "Miscategorized quartile values:   0\n"
     ]
    }
   ],
   "source": [
    "# check the spread of our quartiles\n",
    "# make sure they are balanced\n",
    "\n",
    "quartiles = np.append(sorted(pubg_df.quartile.unique()), 'other')\n",
    "e = 1\n",
    "\n",
    "for i in quartiles:\n",
    "    if e < len(quartiles):\n",
    "        count = len(pubg_df[pubg_df.quartile == i])\n",
    "        print('Percentage of players in Quartile {}: {:.2f}%'.format(e, \n",
    "                                                                 (count / (len(pubg_df.quartile))*100)))\n",
    "        e += 1\n",
    "    else:\n",
    "        count = len(pubg_df[pubg_df.quartile == i])\n",
    "        print('Miscategorized quartile values:  ', count)"
   ]
  },
  {
   "cell_type": "markdown",
   "metadata": {},
   "source": [
    "### Remove unuseful variables"
   ]
  },
  {
   "cell_type": "code",
   "execution_count": 16,
   "metadata": {},
   "outputs": [],
   "source": [
    "# remove some unuseful object-datatype variables \n",
    "del pubg_df['Id']\n",
    "del pubg_df['groupId']\n",
    "del pubg_df['matchId']\n",
    "# del pubg_df['matchType'] # <-- we will leave in for now"
   ]
  },
  {
   "cell_type": "markdown",
   "metadata": {},
   "source": [
    "The above features are specific to individuals & will not be useful for the QOI: predicting players' finishing placement based on their stats."
   ]
  },
  {
   "cell_type": "markdown",
   "metadata": {},
   "source": [
    "### Evaluate outliers"
   ]
  },
  {
   "cell_type": "markdown",
   "metadata": {},
   "source": [
    "We will evaluate outliers by looking at the **data shape** for each of our attributes."
   ]
  },
  {
   "cell_type": "code",
   "execution_count": 17,
   "metadata": {},
   "outputs": [
    {
     "data": {
      "image/png": "[encoded data removed]",
      "text/plain": [
       "<Figure size 1080x720 with 25 Axes>"
      ]
     },
     "metadata": {
      "needs_background": "light"
     },
     "output_type": "display_data"
    }
   ],
   "source": [
    "in_plot = pubg_df.hist(bins=30, figsize = (15, 10))[2]"
   ]
  },
  {
   "cell_type": "markdown",
   "metadata": {},
   "source": [
    "Much of the data appears to be right-skewed, which also means we are likely to have many \"outliers\". This may impact our ability to run analytics unless we normalize and/or standardize our data.\n",
    "\n",
    "There are a few notable exceptions: `matchDuration`, `maxPlace`, and `numGroups`. These appear to be either bimodal or trimodal with `matchDuration` being fairly centered on the mean but `maxPlace` and `numGroups` again exhibiting right-skew.\n",
    "\n",
    "Therefore, our approach will be to evaluate clustering by first utilizing *principal component analysis* (PCA)."
   ]
  },
  {
   "cell_type": "markdown",
   "metadata": {},
   "source": [
    "### New features <br/>\n",
    "Let's create some new features that we could use in our modeling later on."
   ]
  },
  {
   "cell_type": "code",
   "execution_count": 18,
   "metadata": {},
   "outputs": [],
   "source": [
    "pubg_df['totalDistance'] = pubg_df['rideDistance'] + pubg_df['swimDistance'] + pubg_df['walkDistance']\n",
    "pubg_df['killsAssist'] = pubg_df['kills'] + pubg_df['assists']\n",
    "pubg_df['totalItems'] = pubg_df['heals'] + pubg_df['boosts'] + pubg_df['weaponsAcquired']\n",
    "pubg_df['healItems'] = pubg_df['heals'] + pubg_df['boosts']\n",
    "# pubg_df['MMR'] = pubg_df['killPoints'] + pubg_df['winPoints'] # + pubg_df['rankPoints'] <- may take out rank points as it depends on killPoints & winPoints"
   ]
  },
  {
   "cell_type": "markdown",
   "metadata": {},
   "source": [
    "**PLEASE NOTE: Data Scale and Descriptions provided in \"Appendix\" at the end of this notebook.** <br/>"
   ]
  },
  {
   "cell_type": "markdown",
   "metadata": {},
   "source": [
    "### Create object with feature column names"
   ]
  },
  {
   "cell_type": "code",
   "execution_count": 19,
   "metadata": {},
   "outputs": [],
   "source": [
    "# FEATURE COLUMN NAMES (create cols_df)\n",
    "# make a list of the columns in our df (to be used for models below)\n",
    "\n",
    "cols_df = pubg_df.columns.values.tolist()\n",
    "cols_df.remove('winPlacePerc') # remove target variable 1 (continuous)\n",
    "cols_df.remove('quartile') # remove target variable 2 (categorical)\n",
    "cols_df.remove('quart_int') # remove target variable 2 (numeric representation)\n",
    "cols_df.remove('quart_binary')\n",
    "# print(cols_df)"
   ]
  },
  {
   "cell_type": "code",
   "execution_count": 20,
   "metadata": {},
   "outputs": [],
   "source": [
    "# remove additional variables that are causing extra noise in our model\n",
    "# (specifically, these variables are highly correlated with other variables \n",
    "# which impacts our model's convergence perfomance)\n",
    "\n",
    "cols_df.remove('winPoints') # highly correlated with rankPoints and killPoints\n",
    "cols_df.remove('killPoints') # highly correlated with rabnkPoints and winPoints\n",
    "cols_df.remove('maxPlace') # perfectly correlated with numGroups\n",
    "# print(cols_df)\n",
    "\n",
    "# We maintain the rankPoints variable since we subset on this earlier to only work with 'ranked' matches"
   ]
  },
  {
   "cell_type": "code",
   "execution_count": 21,
   "metadata": {},
   "outputs": [],
   "source": [
    "# remove matchType = causes issues when we scale data for PCA\n",
    "\n",
    "del pubg_df['matchType']\n",
    "# del finalDF['matchType']\n",
    "cols_df.remove('matchType')"
   ]
  },
  {
   "cell_type": "code",
   "execution_count": 22,
   "metadata": {},
   "outputs": [
    {
     "name": "stdout",
     "output_type": "stream",
     "text": [
      "['assists', 'boosts', 'damageDealt', 'DBNOs', 'headshotKills', 'heals', 'killPlace', 'kills', 'killStreaks', 'longestKill', 'matchDuration', 'numGroups', 'rankPoints', 'revives', 'rideDistance', 'roadKills', 'swimDistance', 'teamKills', 'vehicleDestroys', 'walkDistance', 'weaponsAcquired', 'totalDistance', 'killsAssist', 'totalItems', 'healItems']\n"
     ]
    }
   ],
   "source": [
    "# print cols_df (feature columns to be used in models)\n",
    "print(cols_df)"
   ]
  },
  {
   "cell_type": "markdown",
   "metadata": {},
   "source": [
    "## FINAL DATAFRAME\n",
    "\n",
    "Jump to [Top](#TOP)"
   ]
  },
  {
   "cell_type": "markdown",
   "metadata": {},
   "source": [
    "The below df.info() confirms that we have at least 30k records and 15 columns in data. We have 2,745,155 records and 21 feature columns—2 response vectors."
   ]
  },
  {
   "cell_type": "code",
   "execution_count": 23,
   "metadata": {},
   "outputs": [
    {
     "name": "stdout",
     "output_type": "stream",
     "text": [
      "<class 'pandas.core.frame.DataFrame'>\n",
      "Int64Index: 2745155 entries, 1 to 4446965\n",
      "Data columns (total 27 columns):\n",
      " #   Column           Dtype  \n",
      "---  ------           -----  \n",
      " 0   assists          int8   \n",
      " 1   boosts           int8   \n",
      " 2   damageDealt      float16\n",
      " 3   DBNOs            int8   \n",
      " 4   headshotKills    int8   \n",
      " 5   heals            int8   \n",
      " 6   killPlace        int8   \n",
      " 7   kills            int8   \n",
      " 8   killStreaks      int8   \n",
      " 9   longestKill      float16\n",
      " 10  matchDuration    int16  \n",
      " 11  numGroups        int8   \n",
      " 12  rankPoints       int16  \n",
      " 13  revives          int8   \n",
      " 14  rideDistance     float16\n",
      " 15  roadKills        int8   \n",
      " 16  swimDistance     float16\n",
      " 17  teamKills        int8   \n",
      " 18  vehicleDestroys  int8   \n",
      " 19  walkDistance     float16\n",
      " 20  weaponsAcquired  int16  \n",
      " 21  totalDistance    float16\n",
      " 22  killsAssist      int8   \n",
      " 23  totalItems       int16  \n",
      " 24  healItems        int8   \n",
      " 25  winPlacePerc     float16\n",
      " 26  quart_binary     object \n",
      "dtypes: float16(7), int16(4), int8(15), object(1)\n",
      "memory usage: 138.8+ MB\n"
     ]
    }
   ],
   "source": [
    "temp = pubg_df[cols_df]\n",
    "temp['winPlacePerc'] = pubg_df['winPlacePerc']\n",
    "temp['quart_binary'] = pubg_df['quart_binary']\n",
    "finalDF = temp\n",
    "finalDF.info()"
   ]
  },
  {
   "cell_type": "markdown",
   "metadata": {},
   "source": [
    "<a id='DATA_UNDERSTANDING_2'></a>"
   ]
  },
  {
   "cell_type": "markdown",
   "metadata": {},
   "source": [
    "# **DATA UNDERSTANDING 2**"
   ]
  },
  {
   "cell_type": "markdown",
   "metadata": {},
   "source": [
    "*Assignment: Visualize the any important attributes appropriately. Important: Provide an interpretation for any charts or graphs.*"
   ]
  },
  {
   "cell_type": "markdown",
   "metadata": {
    "id": "CpvljC1is5mw"
   },
   "source": [
    "## SIMPLE STATISTICS\n",
    "\n",
    "Jump to [Top](#TOP)\n",
    "\n",
    "Because most of our data is continuous (either integers or floats), a large amount of our data can be evaluated for simple statistical measures."
   ]
  },
  {
   "cell_type": "code",
   "execution_count": 24,
   "metadata": {
    "colab": {
     "base_uri": "https://localhost:8080/",
     "height": 364
    },
    "id": "QSSeWFsoeppH",
    "outputId": "59d6956c-b735-4680-c923-6653ce0cf2f6"
   },
   "outputs": [
    {
     "data": {
      "text/html": [
       "<div>\n",
       "<style scoped>\n",
       "    .dataframe tbody tr th:only-of-type {\n",
       "        vertical-align: middle;\n",
       "    }\n",
       "\n",
       "    .dataframe tbody tr th {\n",
       "        vertical-align: top;\n",
       "    }\n",
       "\n",
       "    .dataframe thead th {\n",
       "        text-align: right;\n",
       "    }\n",
       "</style>\n",
       "<table border=\"1\" class=\"dataframe\">\n",
       "  <thead>\n",
       "    <tr style=\"text-align: right;\">\n",
       "      <th></th>\n",
       "      <th>assists</th>\n",
       "      <th>boosts</th>\n",
       "      <th>damageDealt</th>\n",
       "      <th>DBNOs</th>\n",
       "      <th>headshotKills</th>\n",
       "      <th>heals</th>\n",
       "      <th>killPlace</th>\n",
       "      <th>kills</th>\n",
       "      <th>killStreaks</th>\n",
       "      <th>longestKill</th>\n",
       "      <th>...</th>\n",
       "      <th>swimDistance</th>\n",
       "      <th>teamKills</th>\n",
       "      <th>vehicleDestroys</th>\n",
       "      <th>walkDistance</th>\n",
       "      <th>weaponsAcquired</th>\n",
       "      <th>totalDistance</th>\n",
       "      <th>killsAssist</th>\n",
       "      <th>totalItems</th>\n",
       "      <th>healItems</th>\n",
       "      <th>winPlacePerc</th>\n",
       "    </tr>\n",
       "  </thead>\n",
       "  <tbody>\n",
       "    <tr>\n",
       "      <th>count</th>\n",
       "      <td>2.745155e+06</td>\n",
       "      <td>2.745155e+06</td>\n",
       "      <td>2745155.00</td>\n",
       "      <td>2.745155e+06</td>\n",
       "      <td>2.745155e+06</td>\n",
       "      <td>2.745155e+06</td>\n",
       "      <td>2.745155e+06</td>\n",
       "      <td>2.745155e+06</td>\n",
       "      <td>2.745155e+06</td>\n",
       "      <td>2.745155e+06</td>\n",
       "      <td>...</td>\n",
       "      <td>2745155.0</td>\n",
       "      <td>2.745155e+06</td>\n",
       "      <td>2.745155e+06</td>\n",
       "      <td>2745155.000</td>\n",
       "      <td>2.745155e+06</td>\n",
       "      <td>2745155.00</td>\n",
       "      <td>2.745155e+06</td>\n",
       "      <td>2.745155e+06</td>\n",
       "      <td>2.745155e+06</td>\n",
       "      <td>2.745155e+06</td>\n",
       "    </tr>\n",
       "    <tr>\n",
       "      <th>mean</th>\n",
       "      <td>2.237921e-01</td>\n",
       "      <td>1.123926e+00</td>\n",
       "      <td>NaN</td>\n",
       "      <td>6.490603e-01</td>\n",
       "      <td>2.259672e-01</td>\n",
       "      <td>1.398382e+00</td>\n",
       "      <td>4.751563e+01</td>\n",
       "      <td>9.219162e-01</td>\n",
       "      <td>5.412292e-01</td>\n",
       "      <td>NaN</td>\n",
       "      <td>...</td>\n",
       "      <td>NaN</td>\n",
       "      <td>2.903151e-02</td>\n",
       "      <td>8.756154e-03</td>\n",
       "      <td>NaN</td>\n",
       "      <td>3.676111e+00</td>\n",
       "      <td>NaN</td>\n",
       "      <td>1.145708e+00</td>\n",
       "      <td>6.198419e+00</td>\n",
       "      <td>2.522308e+00</td>\n",
       "      <td>NaN</td>\n",
       "    </tr>\n",
       "    <tr>\n",
       "      <th>std</th>\n",
       "      <td>5.763510e-01</td>\n",
       "      <td>1.735702e+00</td>\n",
       "      <td>NaN</td>\n",
       "      <td>1.134096e+00</td>\n",
       "      <td>5.980902e-01</td>\n",
       "      <td>2.725667e+00</td>\n",
       "      <td>2.741419e+01</td>\n",
       "      <td>1.551348e+00</td>\n",
       "      <td>7.063531e-01</td>\n",
       "      <td>NaN</td>\n",
       "      <td>...</td>\n",
       "      <td>NaN</td>\n",
       "      <td>1.815228e-01</td>\n",
       "      <td>9.752691e-02</td>\n",
       "      <td>NaN</td>\n",
       "      <td>2.453115e+00</td>\n",
       "      <td>NaN</td>\n",
       "      <td>1.819689e+00</td>\n",
       "      <td>5.401557e+00</td>\n",
       "      <td>3.939304e+00</td>\n",
       "      <td>0.000000e+00</td>\n",
       "    </tr>\n",
       "    <tr>\n",
       "      <th>min</th>\n",
       "      <td>0.000000e+00</td>\n",
       "      <td>0.000000e+00</td>\n",
       "      <td>0.00</td>\n",
       "      <td>0.000000e+00</td>\n",
       "      <td>0.000000e+00</td>\n",
       "      <td>0.000000e+00</td>\n",
       "      <td>1.000000e+00</td>\n",
       "      <td>0.000000e+00</td>\n",
       "      <td>0.000000e+00</td>\n",
       "      <td>0.000000e+00</td>\n",
       "      <td>...</td>\n",
       "      <td>0.0</td>\n",
       "      <td>0.000000e+00</td>\n",
       "      <td>0.000000e+00</td>\n",
       "      <td>0.000</td>\n",
       "      <td>0.000000e+00</td>\n",
       "      <td>0.00</td>\n",
       "      <td>0.000000e+00</td>\n",
       "      <td>0.000000e+00</td>\n",
       "      <td>0.000000e+00</td>\n",
       "      <td>0.000000e+00</td>\n",
       "    </tr>\n",
       "    <tr>\n",
       "      <th>25%</th>\n",
       "      <td>0.000000e+00</td>\n",
       "      <td>0.000000e+00</td>\n",
       "      <td>0.00</td>\n",
       "      <td>0.000000e+00</td>\n",
       "      <td>0.000000e+00</td>\n",
       "      <td>0.000000e+00</td>\n",
       "      <td>2.400000e+01</td>\n",
       "      <td>0.000000e+00</td>\n",
       "      <td>0.000000e+00</td>\n",
       "      <td>0.000000e+00</td>\n",
       "      <td>...</td>\n",
       "      <td>0.0</td>\n",
       "      <td>0.000000e+00</td>\n",
       "      <td>0.000000e+00</td>\n",
       "      <td>157.875</td>\n",
       "      <td>2.000000e+00</td>\n",
       "      <td>161.25</td>\n",
       "      <td>0.000000e+00</td>\n",
       "      <td>2.000000e+00</td>\n",
       "      <td>0.000000e+00</td>\n",
       "      <td>1.999512e-01</td>\n",
       "    </tr>\n",
       "    <tr>\n",
       "      <th>50%</th>\n",
       "      <td>0.000000e+00</td>\n",
       "      <td>0.000000e+00</td>\n",
       "      <td>82.25</td>\n",
       "      <td>0.000000e+00</td>\n",
       "      <td>0.000000e+00</td>\n",
       "      <td>0.000000e+00</td>\n",
       "      <td>4.700000e+01</td>\n",
       "      <td>0.000000e+00</td>\n",
       "      <td>0.000000e+00</td>\n",
       "      <td>0.000000e+00</td>\n",
       "      <td>...</td>\n",
       "      <td>0.0</td>\n",
       "      <td>0.000000e+00</td>\n",
       "      <td>0.000000e+00</td>\n",
       "      <td>695.500</td>\n",
       "      <td>3.000000e+00</td>\n",
       "      <td>807.50</td>\n",
       "      <td>0.000000e+00</td>\n",
       "      <td>5.000000e+00</td>\n",
       "      <td>1.000000e+00</td>\n",
       "      <td>4.582520e-01</td>\n",
       "    </tr>\n",
       "    <tr>\n",
       "      <th>75%</th>\n",
       "      <td>0.000000e+00</td>\n",
       "      <td>2.000000e+00</td>\n",
       "      <td>184.00</td>\n",
       "      <td>1.000000e+00</td>\n",
       "      <td>0.000000e+00</td>\n",
       "      <td>2.000000e+00</td>\n",
       "      <td>7.100000e+01</td>\n",
       "      <td>1.000000e+00</td>\n",
       "      <td>1.000000e+00</td>\n",
       "      <td>2.167188e+01</td>\n",
       "      <td>...</td>\n",
       "      <td>0.0</td>\n",
       "      <td>0.000000e+00</td>\n",
       "      <td>0.000000e+00</td>\n",
       "      <td>1980.000</td>\n",
       "      <td>5.000000e+00</td>\n",
       "      <td>2792.00</td>\n",
       "      <td>2.000000e+00</td>\n",
       "      <td>9.000000e+00</td>\n",
       "      <td>4.000000e+00</td>\n",
       "      <td>7.407227e-01</td>\n",
       "    </tr>\n",
       "    <tr>\n",
       "      <th>max</th>\n",
       "      <td>2.200000e+01</td>\n",
       "      <td>2.800000e+01</td>\n",
       "      <td>6616.00</td>\n",
       "      <td>4.000000e+01</td>\n",
       "      <td>6.400000e+01</td>\n",
       "      <td>7.300000e+01</td>\n",
       "      <td>1.010000e+02</td>\n",
       "      <td>7.200000e+01</td>\n",
       "      <td>1.100000e+01</td>\n",
       "      <td>1.094000e+03</td>\n",
       "      <td>...</td>\n",
       "      <td>3824.0</td>\n",
       "      <td>8.000000e+00</td>\n",
       "      <td>5.000000e+00</td>\n",
       "      <td>25776.000</td>\n",
       "      <td>1.530000e+02</td>\n",
       "      <td>41280.00</td>\n",
       "      <td>8.500000e+01</td>\n",
       "      <td>1.530000e+02</td>\n",
       "      <td>7.700000e+01</td>\n",
       "      <td>1.000000e+00</td>\n",
       "    </tr>\n",
       "  </tbody>\n",
       "</table>\n",
       "<p>8 rows × 26 columns</p>\n",
       "</div>"
      ],
      "text/plain": [
       "            assists        boosts  damageDealt         DBNOs  headshotKills  \\\n",
       "count  2.745155e+06  2.745155e+06   2745155.00  2.745155e+06   2.745155e+06   \n",
       "mean   2.237921e-01  1.123926e+00          NaN  6.490603e-01   2.259672e-01   \n",
       "std    5.763510e-01  1.735702e+00          NaN  1.134096e+00   5.980902e-01   \n",
       "min    0.000000e+00  0.000000e+00         0.00  0.000000e+00   0.000000e+00   \n",
       "25%    0.000000e+00  0.000000e+00         0.00  0.000000e+00   0.000000e+00   \n",
       "50%    0.000000e+00  0.000000e+00        82.25  0.000000e+00   0.000000e+00   \n",
       "75%    0.000000e+00  2.000000e+00       184.00  1.000000e+00   0.000000e+00   \n",
       "max    2.200000e+01  2.800000e+01      6616.00  4.000000e+01   6.400000e+01   \n",
       "\n",
       "              heals     killPlace         kills   killStreaks   longestKill  \\\n",
       "count  2.745155e+06  2.745155e+06  2.745155e+06  2.745155e+06  2.745155e+06   \n",
       "mean   1.398382e+00  4.751563e+01  9.219162e-01  5.412292e-01           NaN   \n",
       "std    2.725667e+00  2.741419e+01  1.551348e+00  7.063531e-01           NaN   \n",
       "min    0.000000e+00  1.000000e+00  0.000000e+00  0.000000e+00  0.000000e+00   \n",
       "25%    0.000000e+00  2.400000e+01  0.000000e+00  0.000000e+00  0.000000e+00   \n",
       "50%    0.000000e+00  4.700000e+01  0.000000e+00  0.000000e+00  0.000000e+00   \n",
       "75%    2.000000e+00  7.100000e+01  1.000000e+00  1.000000e+00  2.167188e+01   \n",
       "max    7.300000e+01  1.010000e+02  7.200000e+01  1.100000e+01  1.094000e+03   \n",
       "\n",
       "       ...  swimDistance     teamKills  vehicleDestroys  walkDistance  \\\n",
       "count  ...     2745155.0  2.745155e+06     2.745155e+06   2745155.000   \n",
       "mean   ...           NaN  2.903151e-02     8.756154e-03           NaN   \n",
       "std    ...           NaN  1.815228e-01     9.752691e-02           NaN   \n",
       "min    ...           0.0  0.000000e+00     0.000000e+00         0.000   \n",
       "25%    ...           0.0  0.000000e+00     0.000000e+00       157.875   \n",
       "50%    ...           0.0  0.000000e+00     0.000000e+00       695.500   \n",
       "75%    ...           0.0  0.000000e+00     0.000000e+00      1980.000   \n",
       "max    ...        3824.0  8.000000e+00     5.000000e+00     25776.000   \n",
       "\n",
       "       weaponsAcquired  totalDistance   killsAssist    totalItems  \\\n",
       "count     2.745155e+06     2745155.00  2.745155e+06  2.745155e+06   \n",
       "mean      3.676111e+00            NaN  1.145708e+00  6.198419e+00   \n",
       "std       2.453115e+00            NaN  1.819689e+00  5.401557e+00   \n",
       "min       0.000000e+00           0.00  0.000000e+00  0.000000e+00   \n",
       "25%       2.000000e+00         161.25  0.000000e+00  2.000000e+00   \n",
       "50%       3.000000e+00         807.50  0.000000e+00  5.000000e+00   \n",
       "75%       5.000000e+00        2792.00  2.000000e+00  9.000000e+00   \n",
       "max       1.530000e+02       41280.00  8.500000e+01  1.530000e+02   \n",
       "\n",
       "          healItems  winPlacePerc  \n",
       "count  2.745155e+06  2.745155e+06  \n",
       "mean   2.522308e+00           NaN  \n",
       "std    3.939304e+00  0.000000e+00  \n",
       "min    0.000000e+00  0.000000e+00  \n",
       "25%    0.000000e+00  1.999512e-01  \n",
       "50%    1.000000e+00  4.582520e-01  \n",
       "75%    4.000000e+00  7.407227e-01  \n",
       "max    7.700000e+01  1.000000e+00  \n",
       "\n",
       "[8 rows x 26 columns]"
      ]
     },
     "execution_count": 24,
     "metadata": {},
     "output_type": "execute_result"
    }
   ],
   "source": [
    "stats = finalDF.describe()\n",
    "stats"
   ]
  },
  {
   "cell_type": "markdown",
   "metadata": {
    "id": "phJTXvzaU9xK"
   },
   "source": [
    "The simple statistics that we pulled are meaningful because they tell us the shape of our data by attribute. One of the most useful measures is standard deviation, which tells us the spread of our data. The largest standard deviation is around 1,498, which tells us that we have some variables in our data with funky outliers or that operate on a scale much larger than other attributes. Performing PCA will be beneficial to standardize these variables. "
   ]
  },
  {
   "cell_type": "markdown",
   "metadata": {},
   "source": [
    "## FEATURE VISUALIZATIONS\n",
    "\n",
    "Jump to [Top](#TOP)"
   ]
  },
  {
   "cell_type": "markdown",
   "metadata": {
    "id": "UWrh6P6H6DqQ"
   },
   "source": [
    "### Correlation of attributes\n",
    "\n",
    "We will look at relationship between `winPlacePerc` and other variables. Our **target** variable, `quart_binary`, is derived from the `winPlacePerc` value. For this reason, the next visualizations provide insight on relevant features."
   ]
  },
  {
   "cell_type": "code",
   "execution_count": 25,
   "metadata": {
    "colab": {
     "base_uri": "https://localhost:8080/",
     "height": 568
    },
    "id": "4oKKoAYtYdvR",
    "outputId": "19700cac-30a0-4e95-a2ef-392694d411cd"
   },
   "outputs": [
    {
     "data": {
      "text/plain": [
       "<AxesSubplot:>"
      ]
     },
     "execution_count": 25,
     "metadata": {},
     "output_type": "execute_result"
    },
    {
     "data": {
      "image/png": "[encoded data removed]",
      "text/plain": [
       "<Figure size 1080x720 with 2 Axes>"
      ]
     },
     "metadata": {
      "needs_background": "light"
     },
     "output_type": "display_data"
    }
   ],
   "source": [
    "cmap = sns.diverging_palette(220, 10, as_cmap=True)\n",
    "fig, ax = plt.subplots(figsize = (15, 10))\n",
    "corrMatrix = finalDF.corr()\n",
    "sns.heatmap(corrMatrix, ax=ax, annot=True, fmt=\".1f\", cmap=cmap,\n",
    "            mask=np.tril(np.ones_like(corrMatrix, dtype=bool)))"
   ]
  },
  {
   "cell_type": "markdown",
   "metadata": {
    "id": "1UPZoHfJDLOS"
   },
   "source": [
    "**Correlation with winPlacePerc:** <br/>\n",
    "\n",
    "1. There is strong correlation between `winPlacePerc` and `weaponsAcquired`, `winPoints`, and `boosts`. A positive correlation means that an increase in each of these attributes is associated with an increase in `winPlacePerc` (the relationship is not 1 to 1, each has a different strength of the relationship). <br/>\n",
    "\n",
    "2. A strong negative correlation exists between `winPlacePerc` and `killPlace`. This tells us that a low `killPlace` (lower is better) is associated with a high `winPlacePerc` (higher is better), which makes sense, a player with a better `killPlace` would rank better. <br/>\n",
    "\n",
    "The strong correlation between these attributes and `winPlacePerc` (driver of our target variable = `quart_binary`) tells us that these are likely the ones that have the most influence on the `winPlacePerc` attribute, and should be included in our final model. \n",
    "\n",
    "**Additional observations** (related to the attributes strongly correlated with `winPlacePerc`: `weaponsAcquired`, `winPoints`, `boosts`, and `killPlace`):\n",
    "1. The `weaponsAcquired` feature does not appear to have a high correlation with any other attributes.\n",
    "2. There's a strong correlation between `winPoints` and `killPoints`.\n",
    "3. A strong correlation exists between `boosts` and `walkDistance` and a strong negative correlation between `boosts` and `killPlace`.\n",
    "4. Another strong negative correlation can be found between `killPoints` and `kills`, `killStreaks`, and `walkDistance`.\n",
    "\n",
    "**Additional observations** (misc):\n",
    "1. We find high negative correlation between `rankPoints` and `killPoints`.\n",
    "2. There's high negative correlation between `rankPoints` and `winPoints`. "
   ]
  },
  {
   "cell_type": "markdown",
   "metadata": {},
   "source": [
    "### walkDistance, headshotKills, and winPlacePerc"
   ]
  },
  {
   "cell_type": "code",
   "execution_count": 26,
   "metadata": {
    "colab": {
     "base_uri": "https://localhost:8080/",
     "height": 499
    },
    "id": "swGfQoq8ogUT",
    "outputId": "46c399f0-c6bf-4696-f7fe-94bc973b3694"
   },
   "outputs": [
    {
     "data": {
      "image/png": "[encoded data removed]",
      "text/plain": [
       "<Figure size 1080x720 with 1 Axes>"
      ]
     },
     "metadata": {
      "needs_background": "light"
     },
     "output_type": "display_data"
    }
   ],
   "source": [
    "plt.figure(figsize = (15, 10))\n",
    "sns.scatterplot(data = finalDF, x=\"walkDistance\", y=\"headshotKills\",\n",
    "                hue=\"winPlacePerc\", sizes=(20, 200), palette=\"magma\")\n",
    "plt.show()"
   ]
  },
  {
   "cell_type": "markdown",
   "metadata": {
    "id": "CSk53OR9wfEV"
   },
   "source": [
    "Distance walked has the highest correlation with `winPlacePerc`. This makes sense, because if a player stays alive longer, they likely also walk a greater distance than players that do not survive for very long. Additionally, these players (that stay alive longer and walk greater distance) also are likely place higher. "
   ]
  },
  {
   "cell_type": "markdown",
   "metadata": {},
   "source": [
    "# **MODELING AND EVALUATION SECTIONS SUMMARY** #\n",
    "*Assignment (from course overview document): Different tasks will require different evaluation methods. Be as thorough as possible when analyzing the data you have chosen and use visualizations of the results to explain the performance and expected outcomes whenever possible.* <br/>"
   ]
  },
  {
   "cell_type": "markdown",
   "metadata": {},
   "source": [
    "Option A: Cluster Analysis\n",
    "* ***Train:** Perform cluster analysis using several clustering methods (adjust parameters).* <br/>\n",
    "* ***Eval:** Use internal and/or external validation measures to describe and compare the clusterings and the clusters— how did you determine a suitable number of clusters for each method?* <br/>\n",
    "* ***Visualize:** Use tables/visualization to discuss the found results. Explain each visualization in detail.* <br/>\n",
    "* ***Summarize:** Describe your results. What findings are the most interesting and why?* <br/>"
   ]
  },
  {
   "cell_type": "markdown",
   "metadata": {},
   "source": [
    "**We will need to organize content to include MORE THAN 1    cluster approaches in multiple sections.** <br/>\n",
    "Need to have all sections for each cluster approach: (1) TRAIN, (2) EVAL, (3) VISUALIZE, (4) SUMMARIZE."
   ]
  },
  {
   "cell_type": "markdown",
   "metadata": {},
   "source": [
    "<a id='ME1'></a>"
   ]
  },
  {
   "cell_type": "markdown",
   "metadata": {},
   "source": [
    "# **MODELING AND EVALUATION 1**\n",
    "\n",
    "Jump to [Top](#TOP)\n",
    "\n",
    "*Assignment: Train and adjust parameters.*"
   ]
  },
  {
   "cell_type": "markdown",
   "metadata": {},
   "source": [
    "## TRAIN-TEST SPLIT"
   ]
  },
  {
   "cell_type": "code",
   "execution_count": 27,
   "metadata": {},
   "outputs": [
    {
     "name": "stdout",
     "output_type": "stream",
     "text": [
      "Training Data shape:    (1921608, 25)\n",
      "Validating Data shape:  (549031, 25)\n",
      "Test Data shape:        (274516, 25)\n"
     ]
    }
   ],
   "source": [
    "# TRAIN-TEST-SPLIT-0\n",
    "# reference: https://datascience.stackexchange.com/questions/15135/train-test-validation-set-splitting-in-sklearn\n",
    "\n",
    "train_ratio = 0.70\n",
    "validation_ratio = 0.20\n",
    "test_ratio = 0.10\n",
    "\n",
    "# creation of feature-space and response-vectors\n",
    "dataX = finalDF.loc[:, cols_df]\n",
    "dataY = finalDF.loc[:, ('winPlacePerc','quart_binary')]\n",
    "\n",
    "# train is now 70% of the entire data set\n",
    "x_train, x_test, y_train, y_test = train_test_split(dataX, dataY, test_size=(1-train_ratio), random_state=17)\n",
    "\n",
    "# test is now 10% of the initial data set\n",
    "# validation is now 20% of the initial data set \n",
    "x_val, x_test, y_val, y_test = train_test_split(x_test, y_test,\n",
    "                                                test_size=test_ratio/(test_ratio + validation_ratio), random_state=117) \n",
    "\n",
    "print(\"Training Data shape:   \", x_train.shape)\n",
    "print(\"Validating Data shape: \", x_val.shape)\n",
    "print(\"Test Data shape:       \", x_test.shape)"
   ]
  },
  {
   "cell_type": "code",
   "execution_count": 28,
   "metadata": {},
   "outputs": [
    {
     "name": "stdout",
     "output_type": "stream",
     "text": [
      "Evaluation of Index Selection\n",
      "Head:\n",
      " Int64Index([1764352, 83992, 965563, 1672690, 3041784], dtype='int64') \n",
      "Tail:\n",
      " Int64Index([3198970, 1694316, 2366209, 1797295, 1310957], dtype='int64')\n"
     ]
    }
   ],
   "source": [
    "# TRAIN-TEST-SPLIT-1\n",
    "# look at VALIDATE data to confirm that the train-test-split has randomized the data order\n",
    "\n",
    "print(\"Evaluation of Index Selection\\nHead:\\n\",x_val.head().index,\n",
    "      \"\\nTail:\\n\",x_val.tail().index)\n",
    "\n",
    "# confirmed = test_train_split has randomized the data order"
   ]
  },
  {
   "cell_type": "code",
   "execution_count": 29,
   "metadata": {},
   "outputs": [
    {
     "name": "stdout",
     "output_type": "stream",
     "text": [
      "Tuning Data shape:  (50000, 25)\n",
      "(697494, 2)\n",
      "(2047661, 2)\n",
      "(12653, 2)\n",
      "(37347, 2)\n"
     ]
    }
   ],
   "source": [
    "# TRAIN-TEST-SPLIT-2\n",
    "# create TUNE data (x_tune, y_tune) = subset of TRAIN \n",
    "indices = x_train.sample(n=50000, replace=False, random_state=17).index\n",
    "x_tune = x_train.loc[indices, :]\n",
    "y_tune = y_train.loc[indices, :]\n",
    "\n",
    "print(\"Tuning Data shape: \", x_tune.shape)\n",
    "print(dataY[dataY.quart_binary=='1'].shape)\n",
    "print(dataY[dataY.quart_binary=='0'].shape)\n",
    "print(y_tune[y_tune.quart_binary=='1'].shape)\n",
    "print(y_tune[y_tune.quart_binary=='0'].shape)"
   ]
  },
  {
   "cell_type": "markdown",
   "metadata": {},
   "source": [
    "<div class=\"alert alert-block alert-info\">\n",
    "<b><h3>Please Consider the \"Exploratory Analysis\" below as a continuation of Data Understanding 2</h3>\n",
    "    </b>\n",
    "</div>"
   ]
  },
  {
   "cell_type": "markdown",
   "metadata": {},
   "source": [
    "### KMEANS CLUSTERS: EXPLORATORY ANALYSIS\n",
    "\n",
    "Jump to [Top](#TOP)"
   ]
  },
  {
   "cell_type": "markdown",
   "metadata": {},
   "source": [
    "Note: We will use Random Forest as our classification model type."
   ]
  },
  {
   "cell_type": "markdown",
   "metadata": {},
   "source": [
    "### K-means baseline model (Random Forest classifier)"
   ]
  },
  {
   "cell_type": "markdown",
   "metadata": {},
   "source": [
    "Build RF Classifier model to use as our baseline (to compare with models we build using cluster-variables)."
   ]
  },
  {
   "cell_type": "code",
   "execution_count": 30,
   "metadata": {},
   "outputs": [
    {
     "name": "stdout",
     "output_type": "stream",
     "text": [
      "Baseline average accuracy =  91.916 +- 0.27782008566696637\n"
     ]
    }
   ],
   "source": [
    "# reference: ML Notebook 9: Clustering and Discretization\n",
    "# updated 03-30-22 - to run this using SUBSET OF DATA = JUST USE TUNE\n",
    "\n",
    "from sklearn.model_selection import StratifiedKFold, cross_val_score\n",
    "from sklearn.ensemble import RandomForestClassifier\n",
    "\n",
    "X = x_tune.loc[:, cols_df]\n",
    "y = y_tune.loc[:, ('quart_binary')]\n",
    "cv = StratifiedKFold(n_splits=10)\n",
    "\n",
    "clf = RandomForestClassifier(n_estimators=150, random_state=17)\n",
    "\n",
    "acc = cross_val_score(clf, X=X, y=y, cv=cv)\n",
    "\n",
    "print (\"Baseline average accuracy = \", acc.mean()*100, \"+-\", acc.std()*100)"
   ]
  },
  {
   "cell_type": "markdown",
   "metadata": {},
   "source": [
    "### K-means clusters: Ride distance with walk distance\n",
    "\n",
    "#### Plot: rideDistance + walkDistance"
   ]
  },
  {
   "cell_type": "markdown",
   "metadata": {},
   "source": [
    "*Reference: notebook 09* <br/>\n",
    "Okay, now let's start with a bit of feature engineering. We will start by using kmeans on `rideDistance` and `walkDistance` together."
   ]
  },
  {
   "cell_type": "code",
   "execution_count": 31,
   "metadata": {},
   "outputs": [
    {
     "data": {
      "image/png": "[encoded data removed]",
      "text/plain": [
       "<Figure size 576x396 with 1 Axes>"
      ]
     },
     "metadata": {},
     "output_type": "display_data"
    }
   ],
   "source": [
    "# reference: notebook 09\n",
    "from matplotlib import pyplot as plt\n",
    "# changed this from \"ggplot\" to \"seaborn\"\n",
    "plt.style.use(\"seaborn\") \n",
    "\n",
    "# reference: another type of style = \"fivethirtyeight\" \n",
    "# plt.style.use(\"fivethirtyeight\") \n",
    "\n",
    "# %matplotlib inline\n",
    "x_ride_walk = x_tune[['rideDistance','walkDistance']].values\n",
    "\n",
    "plt.scatter(x_ride_walk[:, 1], x_ride_walk[:, 0]+np.random.random(x_ride_walk[:, 1].shape)/2, \n",
    "             s=20)\n",
    "plt.xlabel('walkDistance (normalized)'), plt.ylabel('rideDistance')\n",
    "plt.grid()\n",
    "plt.title('Ride vs Walk')\n",
    "plt.show()"
   ]
  },
  {
   "cell_type": "markdown",
   "metadata": {},
   "source": [
    "There doesn't appear to be a strong correlation between `rideDistance` and `walkDistance`. Not sure this would be very useful."
   ]
  },
  {
   "cell_type": "markdown",
   "metadata": {},
   "source": [
    "#### Accuracy: rideDistance + walkDistance"
   ]
  },
  {
   "cell_type": "code",
   "execution_count": 32,
   "metadata": {},
   "outputs": [
    {
     "name": "stdout",
     "output_type": "stream",
     "text": [
      "Average accuracy (with kmeans for ride/walkDistance)=  91.82400000000001 +- 0.29445542956447535\n"
     ]
    }
   ],
   "source": [
    "# reference: notebook 09\n",
    "\n",
    "from sklearn.cluster import KMeans\n",
    "import numpy as np\n",
    "import pandas as pd\n",
    "\n",
    "x_ride_walk = x_tune[['rideDistance','walkDistance']]\n",
    "\n",
    "cls = KMeans(n_clusters=8, init='k-means++',random_state=17)\n",
    "cls.fit(x_ride_walk)\n",
    "newfeature = cls.labels_ # the labels from kmeans clustering\n",
    "\n",
    "cv_ride_walk = StratifiedKFold(n_splits=10)\n",
    "\n",
    "x_ride_walk = x_tune.loc[:, cols_df]\n",
    "y_ride_walk = y_tune.loc[:, ('quart_binary')]\n",
    "x_ride_walk = np.column_stack((x_ride_walk,pd.get_dummies(newfeature)))\n",
    "\n",
    "acc_ride_walk = cross_val_score(clf,x_ride_walk,y=y_ride_walk,cv=cv_ride_walk)\n",
    "\n",
    "print (\"Average accuracy (with kmeans for ride/walkDistance)= \", acc_ride_walk.mean()*100, \"+-\", acc_ride_walk.std()*100)"
   ]
  },
  {
   "cell_type": "markdown",
   "metadata": {},
   "source": [
    "It does not look like this first pass at clusters has any positive impact on our performance. Accuracy did not improve (actually went down slightly), standard deviation did not go down (it went up just a bit). \n",
    "\n",
    "For reference: baseline model has accuracy 91.916 +- 0.27782. "
   ]
  },
  {
   "cell_type": "markdown",
   "metadata": {},
   "source": [
    "Next, we took a look at the data shapes in the above section (Evaluate outliers), to see if there are any attributes that might be good for clusters. <br/>\n",
    "\n",
    "It looks like `matchDuration` has a couple groupings. It also looks like `numGroups` has 3 clusters. <br/>\n",
    "Let's take a look at them. <br/>"
   ]
  },
  {
   "cell_type": "markdown",
   "metadata": {},
   "source": [
    "### K-means clusters: Match duration with walk distance\n",
    "\n",
    "#### Plot: matchDuration + walkDistance"
   ]
  },
  {
   "cell_type": "code",
   "execution_count": 33,
   "metadata": {},
   "outputs": [
    {
     "data": {
      "image/png": "[encoded data removed]",
      "text/plain": [
       "<Figure size 576x396 with 1 Axes>"
      ]
     },
     "metadata": {},
     "output_type": "display_data"
    }
   ],
   "source": [
    "# reference: notebook 09\n",
    "# from matplotlib import pyplot as plt\n",
    "# plt.style.use(\"seaborn\")\n",
    "\n",
    "# %matplotlib inline\n",
    "x_match_walk = x_tune[['matchDuration','walkDistance']].values\n",
    "\n",
    "plt.scatter(x_match_walk[:, 1], x_match_walk[:, 0]+np.random.random(x_match_walk[:, 1].shape)/2, \n",
    "             s=20)\n",
    "plt.xlabel('walkDistance (normalized)'), plt.ylabel('matchDuration')\n",
    "plt.grid()\n",
    "plt.title('matchDuration vs walkDistance')\n",
    "plt.show()"
   ]
  },
  {
   "cell_type": "markdown",
   "metadata": {},
   "source": [
    "Boo yah! It looks like we have about 3 'clusters' when we look at `matchDuration` vs. `walkDistance`! <br/>\n",
    "\n",
    "What does it look like when use matchDuration with our new feature = `totalDistance`?"
   ]
  },
  {
   "cell_type": "markdown",
   "metadata": {},
   "source": [
    "### K-means clusters: Match duration with total distance\n",
    "\n",
    "#### Plot: matchDuration + totalDistance"
   ]
  },
  {
   "cell_type": "code",
   "execution_count": 34,
   "metadata": {},
   "outputs": [
    {
     "data": {
      "image/png": "[encoded data removed]",
      "text/plain": [
       "<Figure size 576x396 with 1 Axes>"
      ]
     },
     "metadata": {},
     "output_type": "display_data"
    }
   ],
   "source": [
    "# reference: notebook 09\n",
    "# from matplotlib import pyplot as plt\n",
    "# plt.style.use(\"seaborn\")\n",
    "\n",
    "# %matplotlib inline\n",
    "x_match_total = x_tune[['matchDuration','totalDistance']].values\n",
    "\n",
    "plt.scatter(x_match_total[:, 1], x_match_total[:, 0]+np.random.random(x_match_total[:, 1].shape)/2, \n",
    "             s=20)\n",
    "plt.xlabel('totalDistance (normalized)'), plt.ylabel('matchDuration')\n",
    "plt.grid()\n",
    "plt.title('matchDuration vs totalDistance')\n",
    "plt.show()"
   ]
  },
  {
   "cell_type": "markdown",
   "metadata": {},
   "source": [
    "`totalDistance` also looks to have 3 clusters, not totally sure if it is 'better' than the `walkDistance`. At a glance, `walkDistance` appears to be a bit more tightly clustered. Let's try to run the model for both and see if we have any difference."
   ]
  },
  {
   "cell_type": "markdown",
   "metadata": {},
   "source": [
    "### K-means clusters: Match duration with walk distance\n",
    "\n",
    "#### Accuracy: matchDuration + walkDistance"
   ]
  },
  {
   "cell_type": "code",
   "execution_count": 35,
   "metadata": {},
   "outputs": [
    {
     "name": "stdout",
     "output_type": "stream",
     "text": [
      "Average accuracy (with kmeans for matchDuration/walkDistance)=  91.77799999999999 +- 0.3699135034031609\n"
     ]
    }
   ],
   "source": [
    "# AVERAGE ACCURACY FOR MATCH-DURATION + WALK-DISTANCE\n",
    "# reference: notebook 09\n",
    "\n",
    "from sklearn.cluster import KMeans\n",
    "import numpy as np\n",
    "import pandas as pd\n",
    "\n",
    "x_match_walk = x_tune[['matchDuration','walkDistance']]\n",
    "\n",
    "cls_match_walk = KMeans(n_clusters=8, init='k-means++',random_state=17)\n",
    "cls_match_walk.fit(x_match_walk)\n",
    "newfeature_match_walk = cls_match_walk.labels_ # the labels from kmeans clustering\n",
    "\n",
    "cv_match_walk = StratifiedKFold(n_splits=10)\n",
    "\n",
    "x_match_walk = x_tune.loc[:, cols_df]\n",
    "y_match_walk = y_tune.loc[:, ('quart_binary')]\n",
    "x_match_walk = np.column_stack((x_match_walk,pd.get_dummies(newfeature_match_walk)))\n",
    "\n",
    "acc_match_walk = cross_val_score(clf,x_match_walk,y=y_match_walk,cv=cv_match_walk)\n",
    "\n",
    "print (\"Average accuracy (with kmeans for matchDuration/walkDistance)= \", acc_match_walk.mean()*100, \"+-\", acc_match_walk.std()*100)"
   ]
  },
  {
   "cell_type": "markdown",
   "metadata": {},
   "source": [
    "Well, it does not appear that the cluster dummy variables for (`matchDuration` + `walkDistance`) is much help either. "
   ]
  },
  {
   "cell_type": "markdown",
   "metadata": {},
   "source": [
    "### K-means clusters: Match duration with total distance\n",
    "\n",
    "#### Accuracy: matchDuration + totalDistance"
   ]
  },
  {
   "cell_type": "code",
   "execution_count": 36,
   "metadata": {},
   "outputs": [
    {
     "name": "stdout",
     "output_type": "stream",
     "text": [
      "Average accuracy (with kmeans for matchDuration/totalDistance)=  91.83800000000002 +- 0.28403520908506996\n"
     ]
    }
   ],
   "source": [
    "# MATCH DURATION + TOTAL DISTANCE \n",
    "# from sklearn.cluster import KMeans\n",
    "# import numpy as np\n",
    "# import pandas as pd\n",
    "\n",
    "x_match_total = x_tune[['matchDuration','totalDistance']]\n",
    "\n",
    "cls_match_total = KMeans(n_clusters=8, init='k-means++',random_state=17)\n",
    "cls_match_total.fit(x_match_total)\n",
    "newfeature_match_total = cls_match_total.labels_ # the labels from kmeans clustering\n",
    "\n",
    "cv_match_total = StratifiedKFold(n_splits=10)\n",
    "\n",
    "x_match_total = x_tune.loc[:, cols_df]\n",
    "y_match_total = y_tune.loc[:, ('quart_binary')]\n",
    "x_match_total = np.column_stack((x_match_total,pd.get_dummies(newfeature_match_total)))\n",
    "\n",
    "acc_match_total = cross_val_score(clf,x_match_total,y=y_match_total,cv=cv_match_total)\n",
    "\n",
    "print (\"Average accuracy (with kmeans for matchDuration/totalDistance)= \", acc_match_total.mean()*100, \"+-\", acc_match_total.std()*100)\n"
   ]
  },
  {
   "cell_type": "markdown",
   "metadata": {},
   "source": [
    "**Slight improvement with this model.**\n",
    "\n",
    "Looks like this version is still very slightly worse than the baseline model; the accuracy is just under, and the standard deviation has gone up ever-so-slightly. \n",
    "\n",
    "For reference: baseline model has accuracy 91.916 +- 0.27782. "
   ]
  },
  {
   "cell_type": "markdown",
   "metadata": {},
   "source": [
    "### K-means clusters: Total items with total distance\n",
    "\n",
    "#### Accuracy: totalItems + totalDistance"
   ]
  },
  {
   "cell_type": "code",
   "execution_count": 37,
   "metadata": {},
   "outputs": [
    {
     "name": "stdout",
     "output_type": "stream",
     "text": [
      "Average accuracy (with kmeans for totalItems/totalDistance)=  91.856 +- 0.33380233672040255\n"
     ]
    }
   ],
   "source": [
    "# TOTAL ITEMS + TOTAL DISTANCE \n",
    "# from sklearn.cluster import KMeans\n",
    "# import numpy as np\n",
    "# import pandas as pd\n",
    "\n",
    "x_items_distance = x_tune[['totalItems','totalDistance']]\n",
    "\n",
    "cls_items_distance = KMeans(n_clusters=8, init='k-means++',random_state=17)\n",
    "cls_items_distance.fit(x_items_distance)\n",
    "newfeature_items_distance = cls_items_distance.labels_ # the labels from kmeans clustering\n",
    "\n",
    "cv_items_distance = StratifiedKFold(n_splits=10)\n",
    "\n",
    "x_items_distance = x_tune.loc[:, cols_df]\n",
    "y_items_distance = y_tune.loc[:, ('quart_binary')]\n",
    "x_items_distance = np.column_stack((x_items_distance,pd.get_dummies(newfeature_items_distance)))\n",
    "\n",
    "acc_items_distance = cross_val_score(clf,x_items_distance,y=y_items_distance,cv=cv_items_distance)\n",
    "\n",
    "print (\"Average accuracy (with kmeans for totalItems/totalDistance)= \", acc_items_distance.mean()*100, \"+-\", acc_items_distance.std()*100)\n"
   ]
  },
  {
   "cell_type": "markdown",
   "metadata": {},
   "source": [
    "Looks like this version is not as good as the baseline model when including dummy variables with clusters on `totalItems` and `totalDistance`.\n",
    "\n",
    "For reference: baseline model has accuracy 91.916 +- 0.27782. \n"
   ]
  },
  {
   "cell_type": "markdown",
   "metadata": {},
   "source": [
    "### K-means clusters: Heal items with kills assist\n",
    "\n",
    "#### Accuracy: healItems + killsAssist"
   ]
  },
  {
   "cell_type": "code",
   "execution_count": 38,
   "metadata": {},
   "outputs": [
    {
     "name": "stdout",
     "output_type": "stream",
     "text": [
      "Average accuracy (with kmeans for healItems/killsAssist)=  91.816 +- 0.2637877935007584\n"
     ]
    }
   ],
   "source": [
    "# HEAL ITEMS + KILLS ASSISST  \n",
    "# from sklearn.cluster import KMeans\n",
    "# import numpy as np\n",
    "# import pandas as pd\n",
    "\n",
    "x_heal_kill = x_tune[['healItems','killsAssist']]\n",
    "\n",
    "cls_heal_kill = KMeans(n_clusters=8, init='k-means++',random_state=17)\n",
    "cls_heal_kill.fit(x_heal_kill)\n",
    "newfeature_heal_kill = cls_heal_kill.labels_ # the labels from kmeans clustering\n",
    "\n",
    "cv_heal_kill = StratifiedKFold(n_splits=10)\n",
    "\n",
    "x_heal_kill = x_tune.loc[:, cols_df]\n",
    "y_heal_kill = y_tune.loc[:, ('quart_binary')]\n",
    "x_heal_kill = np.column_stack((x_heal_kill,pd.get_dummies(newfeature_heal_kill)))\n",
    "\n",
    "acc_heal_kill = cross_val_score(clf,x_heal_kill,y=y_heal_kill,cv=cv_heal_kill)\n",
    "\n",
    "print (\"Average accuracy (with kmeans for healItems/killsAssist)= \", acc_heal_kill.mean()*100, \"+-\", acc_heal_kill.std()*100)\n"
   ]
  },
  {
   "cell_type": "markdown",
   "metadata": {},
   "source": [
    "Baseline average accuracy =  91.916 +- 0.27782."
   ]
  },
  {
   "cell_type": "markdown",
   "metadata": {},
   "source": [
    "The main take-away is that we don't see any particular benefits from clustering for our prediction analysis. We don't particularly improve Accuracy or Standard Deviation.\n",
    "\n",
    "This has been a partially informed analysis from what we believe would make sense to cluster on after looking at the attributes/features in the data."
   ]
  },
  {
   "cell_type": "markdown",
   "metadata": {},
   "source": [
    "### Scale data to prep for PCA & Hierarchical"
   ]
  },
  {
   "cell_type": "markdown",
   "metadata": {},
   "source": [
    "Because we haven't been able to improve the prediction capabilities on raw data, we'll attempt PCA in order to make our clustering as well-informed as possible.\n",
    "\n",
    "First, create copy of DF and scale the data. <br/>\n",
    "We will scale the data to have a mean of 0 and standard deviation of 1. <br/>\n",
    "We want to scale the data before doing PCA. Scaling the data tells PCA that all the attributes are of equal importance. "
   ]
  },
  {
   "cell_type": "code",
   "execution_count": 41,
   "metadata": {},
   "outputs": [],
   "source": [
    "# Scale data\n",
    "\n",
    "# define scaler\n",
    "scaler = StandardScaler()\n",
    "\n",
    "# create copy of dataframe to scale for PCA\n",
    "scaled_x_tune = x_tune.copy()\n",
    "\n",
    "# create scaled version of data frame \n",
    "scaled_x_tune = pd.DataFrame(scaler.fit_transform(scaled_x_tune), columns = scaled_x_tune.columns)\n",
    "\n",
    "# reference: https://www.statology.org/scree-plot-python/\n",
    "\n",
    "# confirm we have removed matchType (can delete this later)\n",
    "# cols_df_tune = scaled_x_tune.columns.values.tolist()\n",
    "# cols_df_tune"
   ]
  },
  {
   "cell_type": "code",
   "execution_count": 43,
   "metadata": {},
   "outputs": [],
   "source": [
    "import scipy.cluster.hierarchy as sch\n",
    "from sklearn.cluster import AgglomerativeClustering\n",
    "import sklearn.metrics as sm\n",
    "\n",
    "random.seed(10)"
   ]
  },
  {
   "cell_type": "markdown",
   "metadata": {},
   "source": [
    "Create new DF for our clustering efforts = sample 2,000 records from x_tune."
   ]
  },
  {
   "cell_type": "code",
   "execution_count": 44,
   "metadata": {},
   "outputs": [],
   "source": [
    "y_tune_df = pd.DataFrame(y_tune, columns=y_tune.columns)\n",
    "y_tune_df = y_tune_df.reset_index(drop=False)\n",
    "\n",
    "indices_slim = scaled_x_tune.sample(n=2000, replace=False, random_state=17).index\n",
    "x_tune_slim = scaled_x_tune.loc[indices_slim, :]\n",
    "y_tune_slim = y_tune_df.loc[indices_slim, :]"
   ]
  },
  {
   "cell_type": "markdown",
   "metadata": {},
   "source": [
    "Hierarchical clustering is an algorithm that groups similar objects into groups called clusters. Simply, it forms as many clusters as there are data points then take two nearest data points and make them a cluster. Then take two nearest clusters and make them a cluster and repeat this step until there is only one finaly cluster.\n",
    "\n",
    "Dendrogram shows the hierarchical relationship between the clusters as we show for our x_tune_slim."
   ]
  },
  {
   "cell_type": "code",
   "execution_count": 45,
   "metadata": {},
   "outputs": [
    {
     "data": {
      "image/png": "[encoded data removed]",
      "text/plain": [
       "<Figure size 576x396 with 1 Axes>"
      ]
     },
     "metadata": {},
     "output_type": "display_data"
    }
   ],
   "source": [
    "# Visulaizations\n",
    "dendrogram = sch.dendrogram(sch.linkage(x_tune_slim, method = 'ward'))\n",
    "plt.ylabel('Euclidean Distances')\n",
    "plt.show()"
   ]
  },
  {
   "cell_type": "markdown",
   "metadata": {},
   "source": [
    "Although, we could potentially define the best clusters using the dendrogram, it is a better practice to find the accuracy of mean and standard deviation to determine which is a better distance meterics, linkage, and number of clusters for the model.\n",
    "\n",
    "There are other types of distance metrics could be used but we decided to use Euclidean and Cosine distance and for linkage criteria, we looked at ward, complete, and average. We had to consider that if linkage is ward, only Euclidean is accpected.\n",
    "\n",
    "The best model would be with a high accuracy and a low standard deviation. However, it is difficult identify which model is the best so we calculated a difference for each algorithm to determine the best possible model."
   ]
  },
  {
   "cell_type": "markdown",
   "metadata": {},
   "source": [
    "Let's reassess and do some PCA before we try clusters again."
   ]
  },
  {
   "cell_type": "markdown",
   "metadata": {},
   "source": [
    "# **Modeling and Evaluation 1 (cont.)**\n",
    "\n",
    "*Assignment: Train and adjust parameters.*"
   ]
  },
  {
   "cell_type": "markdown",
   "metadata": {},
   "source": [
    "## PCA FOR CLUSTERS\n",
    "\n",
    "Jump to [Top](#TOP)"
   ]
  },
  {
   "cell_type": "markdown",
   "metadata": {},
   "source": [
    "*Why do we do PCA before clustering?*\n",
    "\n",
    "In short, we perform PCA for **dimensionality reduction**.\n",
    "\n",
    "Clustering is highly sensitive to dimensionality, it is also hard to visualize outside of 3-Dimensions. We will use PCA to reduce the dimensionality of the data before we try clustering again. \n",
    "\n",
    "*reference: https://www.kaggle.com/code/robroseknows/pubg-clustering-exploration/notebook* \n"
   ]
  },
  {
   "cell_type": "markdown",
   "metadata": {},
   "source": [
    "It is necessary to **normalize** data before performing PCA. The PCA calculates a new projection of your data set. And the new axis are based on the standard deviation of your variables. <br/>\n",
    "\n",
    "*reference: https://www.researchgate.net/post/Is-it-necessary-to-normalize-data-before-performing-principle-component-analysis#:~:text=Yes%2C%20it%20is%20necessary%20to,standard%20deviation%20of%20your%20variables*"
   ]
  },
  {
   "cell_type": "markdown",
   "metadata": {},
   "source": [
    "#### Perform PCA on scaled_x_tune"
   ]
  },
  {
   "cell_type": "code",
   "execution_count": 46,
   "metadata": {},
   "outputs": [],
   "source": [
    "# import library\n",
    "from sklearn.decomposition import PCA\n",
    "\n",
    "# define PCA model to use (start with 14 = random number)\n",
    "pca14 = PCA(n_components = 14)\n",
    "\n",
    "# fit PCA model to data (scaled_x_tune)\n",
    "pca14_fit = pca14.fit(scaled_x_tune)\n",
    "P14 = pca14.transform(scaled_x_tune)"
   ]
  },
  {
   "cell_type": "code",
   "execution_count": 47,
   "metadata": {},
   "outputs": [
    {
     "name": "stdout",
     "output_type": "stream",
     "text": [
      "0.9103516601026058\n"
     ]
    }
   ],
   "source": [
    "# how much of the variance is explained by 14 components\n",
    "print(sum(pca14.explained_variance_ratio_))\n",
    "\n",
    "# reference: https://www.kaggle.com/code/robroseknows/pubg-clustering-exploration/notebook"
   ]
  },
  {
   "cell_type": "markdown",
   "metadata": {},
   "source": [
    "This tells us that about 91% of the variance in x_tune can be explained using 14 components. <br/>"
   ]
  },
  {
   "cell_type": "markdown",
   "metadata": {},
   "source": [
    "Let's look at the breakdown of % variance explained by each principal component."
   ]
  },
  {
   "cell_type": "code",
   "execution_count": 48,
   "metadata": {},
   "outputs": [
    {
     "name": "stdout",
     "output_type": "stream",
     "text": [
      "[34.350883  11.092529   5.4613867  4.9593096  4.2574177  4.1059656\n",
      "  4.072749   3.9200096  3.693766   3.5024018  3.2831821  3.1688325\n",
      "  2.8406057  2.3261263]\n"
     ]
    }
   ],
   "source": [
    "print(pca14.explained_variance_ratio_ * 100)"
   ]
  },
  {
   "cell_type": "markdown",
   "metadata": {},
   "source": [
    "This tells us that: <br/>\n",
    "* The first principal component explains 34.3% of the total variance in the scaled_x_tune dataset. <br/>\n",
    "* The second principal component explains an additional 11.1% of the total variance in the scaled_x_tune dataset. <br/>\n",
    "* The third principal component explains an additional 5.5% of the total variance in the scaled_x_tune dataset. <br/>\n",
    "* The fourth principal component explains an additional 4.9% of the total variance in the scaled_x_tune dataset. <br/>\n",
    "* And so on."
   ]
  },
  {
   "cell_type": "markdown",
   "metadata": {},
   "source": [
    "#### PCA Scree plot"
   ]
  },
  {
   "cell_type": "code",
   "execution_count": 49,
   "metadata": {},
   "outputs": [
    {
     "data": {
      "image/png": "[encoded data removed]",
      "text/plain": [
       "<Figure size 576x396 with 1 Axes>"
      ]
     },
     "metadata": {},
     "output_type": "display_data"
    }
   ],
   "source": [
    "# SCREE PLOT for PCA (pca on x_tune)\n",
    "# Visualize eigenvalues/variances\n",
    "\n",
    "# import matplotlib.pyplot as plt\n",
    "# import numpy as np\n",
    "\n",
    "PC_values = np.arange(pca14.n_components_) + 1\n",
    "plt.plot(PC_values, pca14.explained_variance_ratio_, 'o-', linewidth=2, color='blue')\n",
    "plt.title('Scree Plot')\n",
    "plt.xlabel('Principal Component')\n",
    "plt.ylabel('Variance Explained')\n",
    "plt.show()"
   ]
  },
  {
   "cell_type": "markdown",
   "metadata": {},
   "source": [
    "*reference: https://www.kaggle.com/code/robroseknows/pubg-clustering-exploration/notebook* <br/>\n",
    "*reference: https://www.statology.org/scree-plot-python/* <br/>"
   ]
  },
  {
   "cell_type": "markdown",
   "metadata": {},
   "source": [
    "The bend in the elbow of the scree plot (above) is a good indicator for how many eigenvectors to use. Here we see it happens at component 3 or 4, meaning 3 components are sufficient to explain the most variance with the most parsimonious model. Therefore, we'll proceed with cluster analysis with 3 principal components."
   ]
  },
  {
   "cell_type": "code",
   "execution_count": 50,
   "metadata": {},
   "outputs": [
    {
     "name": "stdout",
     "output_type": "stream",
     "text": [
      "0.5088894031941891\n"
     ]
    }
   ],
   "source": [
    "# check variance explained by 3 components (using scaled_x_tune)\n",
    "\n",
    "# define PCA model to use (3)\n",
    "pca3 = PCA(n_components=3)\n",
    "\n",
    "# fit PCA model to data\n",
    "pca3_fit = pca3.fit(scaled_x_tune)\n",
    "\n",
    "# how much of the variance is explained by 3 components\n",
    "print(sum(pca3.explained_variance_ratio_))\n",
    "\n",
    "# store the principal components in variable\n",
    "P3 = pca3.transform(scaled_x_tune)\n",
    "\n",
    "# reference: https://www.kaggle.com/code/robroseknows/pubg-clustering-exploration/notebook\n",
    "# reference: https://medium.com/more-python-less-problems/principal-component-analysis-and-k-means-clustering-to-visualize-a-high-dimensional-dataset-577b2a7a5fe2"
   ]
  },
  {
   "cell_type": "markdown",
   "metadata": {},
   "source": [
    "Looks like around 51% of the variance in the data can be explained by using 3 components. <br/>\n",
    "We will use this data (scaled, PCA = 3) to build our clusters. <br/>"
   ]
  },
  {
   "cell_type": "markdown",
   "metadata": {},
   "source": [
    "Now we will plot the first 2 components to see if there are any clear clusters that jump out.\n",
    "\n",
    "*reference: https://medium.com/more-python-less-problems/principal-component-analysis-and-k-means-clustering-to-visualize-a-high-dimensional-dataset-577b2a7a5fe2*"
   ]
  },
  {
   "cell_type": "code",
   "execution_count": 51,
   "metadata": {},
   "outputs": [
    {
     "data": {
      "text/plain": [
       "Text(0, 0.5, 'PCA 2')"
      ]
     },
     "execution_count": 51,
     "metadata": {},
     "output_type": "execute_result"
    },
    {
     "data": {
      "image/png": "[encoded data removed]",
      "text/plain": [
       "<Figure size 576x396 with 1 Axes>"
      ]
     },
     "metadata": {},
     "output_type": "display_data"
    }
   ],
   "source": [
    "# store the principal components (3) into pca3_comp_stg object\n",
    "pca3_comp_stg = pca3.fit_transform(scaled_x_tune)\n",
    "\n",
    "# save components to dataFrame\n",
    "pca3_comp = pd.DataFrame(pca3_comp_stg)\n",
    "\n",
    "# plot the components to see if we can find clusters\n",
    "plt.scatter(pca3_comp[0], pca3_comp[1], alpha = 0.1, color = 'blue')\n",
    "plt.xlabel('PCA 1')\n",
    "plt.ylabel('PCA 2')"
   ]
  },
  {
   "cell_type": "markdown",
   "metadata": {},
   "source": [
    "There is no readily visible grouping to help a human understand separation within the data. We'll continue by trying 3-dimensional visualization."
   ]
  },
  {
   "cell_type": "markdown",
   "metadata": {},
   "source": [
    "#### PCA 3D plot"
   ]
  },
  {
   "cell_type": "code",
   "execution_count": 52,
   "metadata": {},
   "outputs": [
    {
     "name": "stderr",
     "output_type": "stream",
     "text": [
      "C:\\Users\\sherm\\AppData\\Local\\Temp/ipykernel_2296/1455752897.py:5: MatplotlibDeprecationWarning: Axes3D(fig) adding itself to the figure is deprecated since 3.4. Pass the keyword argument auto_add_to_figure=False and use fig.add_axes(ax) to suppress this warning. The default value of auto_add_to_figure will change to False in mpl3.5 and True values will no longer work in 3.6.  This is consistent with other Axes classes.\n",
      "  ax = Axes3D(fig_p3, elev=17, azim=75)\n",
      "C:\\Users\\sherm\\AppData\\Local\\Temp/ipykernel_2296/1455752897.py:7: UserWarning: Matplotlib is currently using module://matplotlib_inline.backend_inline, which is a non-GUI backend, so cannot show the figure.\n",
      "  fig_p3.show()\n"
     ]
    },
    {
     "data": {
      "image/png": "[encoded data removed]",
      "text/plain": [
       "<Figure size 576x396 with 1 Axes>"
      ]
     },
     "metadata": {},
     "output_type": "display_data"
    }
   ],
   "source": [
    "# plot first 3 componenets - using first 100,000 records\n",
    "from mpl_toolkits.mplot3d import Axes3D\n",
    "fig_p3 = plt.figure()\n",
    "# ax = Axes3D(fig_p3, elev=48, azim=134) # original\n",
    "ax = Axes3D(fig_p3, elev=17, azim=75)\n",
    "ax.scatter(P3[:100000, 0], P3[:100000, 1], P3[:100000, 2])\n",
    "fig_p3.show()\n",
    "\n",
    "# # rotate the axes and update\n",
    "# for angle in range(0, 360):\n",
    "#     ax.view_init(50, angle)\n",
    "#     plt.draw()\n",
    "#     plt.pause(.001)"
   ]
  },
  {
   "cell_type": "markdown",
   "metadata": {},
   "source": [
    "This does not really look like we are finding the \"clusters\" we expect."
   ]
  },
  {
   "cell_type": "markdown",
   "metadata": {},
   "source": [
    "Now that we have reduced dimensionality of the data using PCA, we can do some clusters and see if they helped. "
   ]
  },
  {
   "cell_type": "code",
   "execution_count": 53,
   "metadata": {},
   "outputs": [
    {
     "data": {
      "image/png": "[encoded data removed]",
      "text/plain": [
       "<Figure size 576x396 with 1 Axes>"
      ]
     },
     "metadata": {},
     "output_type": "display_data"
    }
   ],
   "source": [
    "n_clusters = range(1, 20)\n",
    "kmeans = [KMeans(n_clusters=i, init='k-means++', n_init=10, max_iter=300, tol=0.0001,\n",
    "                 verbose=0, random_state=None, copy_x=True) \n",
    "          for i in n_clusters]\n",
    "score = [kmeans[i].fit(P3).score(P3) for i in range(len(kmeans))]\n",
    "plt.plot(n_clusters,score)\n",
    "plt.xticks([1,3,5,7,9,11,13,15,17,19], [1,3,5,7,9,11,13,15,17,19])\n",
    "plt.xlabel('Number of Clusters')\n",
    "plt.ylabel('Score')\n",
    "plt.title('Elbow Curve')\n",
    "plt.show()"
   ]
  },
  {
   "cell_type": "markdown",
   "metadata": {},
   "source": [
    "Visually speaking, we may have reached a plateau in improvement by 13 clusters. We'll proceed under that assumption."
   ]
  },
  {
   "cell_type": "markdown",
   "metadata": {},
   "source": [
    "FIT NEW MODEL WITH 13 CLUSTERS + CHECK PERFORMANCE"
   ]
  },
  {
   "cell_type": "code",
   "execution_count": 54,
   "metadata": {},
   "outputs": [],
   "source": [
    "# start with clusters = 13\n",
    "kms = KMeans(n_clusters=13).fit(P3)"
   ]
  },
  {
   "cell_type": "code",
   "execution_count": 55,
   "metadata": {},
   "outputs": [
    {
     "data": {
      "image/png": "[encoded data removed]",
      "text/plain": [
       "<Figure size 576x396 with 1 Axes>"
      ]
     },
     "metadata": {},
     "output_type": "display_data"
    }
   ],
   "source": [
    "plt.style.use(\"seaborn\")\n",
    "plt.scatter(P3[:100000, 0], P3[:100000, 1], c=kms.labels_[:100000])\n",
    "plt.show()"
   ]
  },
  {
   "cell_type": "markdown",
   "metadata": {},
   "source": [
    "Again, these are not human-discernible."
   ]
  },
  {
   "cell_type": "code",
   "execution_count": 70,
   "metadata": {},
   "outputs": [
    {
     "data": {
      "text/html": [
       "<div>\n",
       "<style scoped>\n",
       "    .dataframe tbody tr th:only-of-type {\n",
       "        vertical-align: middle;\n",
       "    }\n",
       "\n",
       "    .dataframe tbody tr th {\n",
       "        vertical-align: top;\n",
       "    }\n",
       "\n",
       "    .dataframe thead th {\n",
       "        text-align: right;\n",
       "    }\n",
       "</style>\n",
       "<table border=\"1\" class=\"dataframe\">\n",
       "  <thead>\n",
       "    <tr style=\"text-align: right;\">\n",
       "      <th></th>\n",
       "      <th>pc_0</th>\n",
       "      <th>pc_1</th>\n",
       "      <th>pc_2</th>\n",
       "    </tr>\n",
       "  </thead>\n",
       "  <tbody>\n",
       "    <tr>\n",
       "      <th>0</th>\n",
       "      <td>-1.006370</td>\n",
       "      <td>1.740562</td>\n",
       "      <td>0.336831</td>\n",
       "    </tr>\n",
       "    <tr>\n",
       "      <th>1</th>\n",
       "      <td>-0.747359</td>\n",
       "      <td>1.103545</td>\n",
       "      <td>0.470911</td>\n",
       "    </tr>\n",
       "    <tr>\n",
       "      <th>2</th>\n",
       "      <td>-1.493524</td>\n",
       "      <td>0.265477</td>\n",
       "      <td>-1.254972</td>\n",
       "    </tr>\n",
       "    <tr>\n",
       "      <th>3</th>\n",
       "      <td>-1.054104</td>\n",
       "      <td>-1.479916</td>\n",
       "      <td>1.313593</td>\n",
       "    </tr>\n",
       "    <tr>\n",
       "      <th>4</th>\n",
       "      <td>3.697088</td>\n",
       "      <td>-0.812645</td>\n",
       "      <td>-2.524635</td>\n",
       "    </tr>\n",
       "  </tbody>\n",
       "</table>\n",
       "</div>"
      ],
      "text/plain": [
       "       pc_0      pc_1      pc_2\n",
       "0 -1.006370  1.740562  0.336831\n",
       "1 -0.747359  1.103545  0.470911\n",
       "2 -1.493524  0.265477 -1.254972\n",
       "3 -1.054104 -1.479916  1.313593\n",
       "4  3.697088 -0.812645 -2.524635"
      ]
     },
     "execution_count": 70,
     "metadata": {},
     "output_type": "execute_result"
    }
   ],
   "source": [
    "# store our first 3 principal components in dataFrame\n",
    "column_names = ['pc_0','pc_1','pc_2']\n",
    "pca3_slim = pd.DataFrame(P3, columns = column_names)\n",
    "\n",
    "pca3_slim.head()"
   ]
  },
  {
   "cell_type": "code",
   "execution_count": 71,
   "metadata": {},
   "outputs": [],
   "source": [
    "# NEED TO PULL SAMPLE OF 2000 FOR PCA3_SLIM TO MATCH SCALED_X_TUNE\n",
    "\n",
    "x_pca_slim = pca3_slim.loc[indices_slim, :]"
   ]
  },
  {
   "cell_type": "markdown",
   "metadata": {},
   "source": [
    "Test accuracy with added features = clusters from first 3 principal components."
   ]
  },
  {
   "cell_type": "code",
   "execution_count": 72,
   "metadata": {},
   "outputs": [
    {
     "name": "stdout",
     "output_type": "stream",
     "text": [
      "Clusters 4 Average accuracy: PCA 3 WITH other attributes =  83.5 +- 2.6457513110645894\n",
      "Clusters 5 Average accuracy: PCA 3 WITH other attributes =  83.85000000000001 +- 2.80223125384041\n",
      "Clusters 6 Average accuracy: PCA 3 WITH other attributes =  83.80000000000001 +- 3.1874754901018454\n",
      "Clusters 7 Average accuracy: PCA 3 WITH other attributes =  83.39999999999999 +- 2.8705400188814645\n",
      "Clusters 8 Average accuracy: PCA 3 WITH other attributes =  83.14999999999999 +- 2.729926738943738\n"
     ]
    }
   ],
   "source": [
    "# PCA\n",
    "# this code will add new features to represent PCs 1, 2, 3\n",
    "# IN ADDITION TO the other features in cols_df\n",
    "\n",
    "# pca3_slim\n",
    "\n",
    "# X1 = df_imputed[['Pclass','Fare']]\n",
    "# X2 = df_imputed[['Age','Parch','SibSp']]\n",
    "\n",
    "params = []\n",
    "\n",
    "# we will vary parameters on match-total with # clusters 4 - 9\n",
    "for i in range(4,9):\n",
    "   # for x_heal in range(3,8):\n",
    "        # get the first clustering\n",
    "        cls_p3 = KMeans(n_clusters=i, init='k-means++',random_state=17)\n",
    "        cls_p3.fit(x_pca_slim)\n",
    "        newfeature_p3 = cls_p3.labels_ # the labels from kmeans clustering\n",
    "\n",
    "        # # # append on the second clustering\n",
    "        # cls_heal_kill = KMeans(n_clusters=x_heal, init='k-means++',random_state=17)\n",
    "        # cls_heal_kill.fit(x_heal_kill)\n",
    "        # newfeature_heal_kill = cls_heal_kill.labels_ # the labels from kmeans clustering\n",
    "\n",
    "        y = y_tune_slim.loc[:, ('quart_binary')]\n",
    "        X = x_pca_slim\n",
    "        # X = np.column_stack((X,pd.get_dummies(newfeature_match_total)))\n",
    "        X = np.column_stack((X,pd.get_dummies(newfeature_p3)))\n",
    "\n",
    "        acc = cross_val_score(clf,X,y=y,cv=cv)\n",
    "        # params.append((x_match,acc.mean()*100,acc.std()*100)) # save state\n",
    "        params.append((i,acc.mean()*100,acc.std()*100)) # save state\n",
    "\n",
    "        # print (\"Clusters\",x_match,\"Average accuracy = \", acc.mean()*100, \"+-\", acc.std()*100)\n",
    "        print (\"Clusters\",i,\"Average accuracy: PCA 3 WITH other attributes = \", acc.mean()*100, \"+-\", acc.std()*100)\n",
    "\n",
    "# reference: 09.Clustering and discretization.ipynb"
   ]
  },
  {
   "cell_type": "markdown",
   "metadata": {},
   "source": [
    "Test accuracy with ONLY clusters from first 3 principal components."
   ]
  },
  {
   "cell_type": "code",
   "execution_count": 73,
   "metadata": {},
   "outputs": [
    {
     "name": "stdout",
     "output_type": "stream",
     "text": [
      "Clusters 4 Average accuracy: PCA 3 WITHOUT other attributes =  84.55 +- 2.263294059551255\n",
      "Clusters 5 Average accuracy: PCA 3 WITHOUT other attributes =  82.64999999999999 +- 1.8172781845386228\n",
      "Clusters 6 Average accuracy: PCA 3 WITHOUT other attributes =  82.85 +- 3.0744918279286395\n",
      "Clusters 7 Average accuracy: PCA 3 WITHOUT other attributes =  81.30000000000001 +- 1.5033296378372878\n",
      "Clusters 8 Average accuracy: PCA 3 WITHOUT other attributes =  81.65 +- 1.9754746265138388\n"
     ]
    }
   ],
   "source": [
    "# pca3_comp[0], pca3_comp[1],\n",
    "# pca3_slim\n",
    "\n",
    "# X1 = df_imputed[['Pclass','Fare']]\n",
    "# X2 = df_imputed[['Age','Parch','SibSp']]\n",
    "\n",
    "params = []\n",
    "\n",
    "# we will vary parameters on match-total with # clusters 4 - 9\n",
    "for i in range(4,9):\n",
    "   # for x_heal in range(3,8):\n",
    "        # get the first clustering\n",
    "        cls_p3 = KMeans(n_clusters=i, init='k-means++',random_state=17)\n",
    "        cls_p3.fit(x_pca_slim)\n",
    "        newfeature_p3 = cls_p3.labels_ # the labels from kmeans clustering\n",
    "\n",
    "        # # # append on the second clustering\n",
    "        # cls_heal_kill = KMeans(n_clusters=x_heal, init='k-means++',random_state=17)\n",
    "        # cls_heal_kill.fit(x_heal_kill)\n",
    "        # newfeature_heal_kill = cls_heal_kill.labels_ # the labels from kmeans clustering\n",
    "\n",
    "        y = y_tune_slim.loc[:, ('quart_binary')]\n",
    "        X = pd.get_dummies(newfeature_p3)\n",
    "        \n",
    "        # X = np.column_stack((X,pd.get_dummies(newfeature_p3)))\n",
    "\n",
    "        acc = cross_val_score(clf,X,y=y,cv=cv)\n",
    "        # params.append((x_match,acc.mean()*100,acc.std()*100)) # save state\n",
    "        params.append((i,acc.mean()*100,acc.std()*100)) # save state\n",
    "\n",
    "        # print (\"Clusters\",x_match,\"Average accuracy = \", acc.mean()*100, \"+-\", acc.std()*100)\n",
    "        print (\"Clusters\",i,\"Average accuracy: PCA 3 WITHOUT other attributes = \", acc.mean()*100, \"+-\", acc.std()*100)\n",
    "\n",
    "# reference: 09.Clustering and discretization.ipynb"
   ]
  },
  {
   "cell_type": "markdown",
   "metadata": {},
   "source": [
    "Let's vary the parameters of our KMEANS clusters to see what works."
   ]
  },
  {
   "cell_type": "markdown",
   "metadata": {},
   "source": [
    "### Tune Parameters for KMeans - Number of Clusters\n",
    "\n",
    "Jump to [Top](#TOP)"
   ]
  },
  {
   "cell_type": "code",
   "execution_count": 56,
   "metadata": {},
   "outputs": [
    {
     "name": "stdout",
     "output_type": "stream",
     "text": [
      "Clusters 4 Average accuracy =  91.20000000000002 +- 1.5033296378372898\n",
      "Clusters 5 Average accuracy =  90.9 +- 1.593737745050924\n",
      "Clusters 6 Average accuracy =  90.95 +- 1.863464515358422\n",
      "Clusters 7 Average accuracy =  91.25 +- 1.8200274723201288\n",
      "Clusters 8 Average accuracy =  91.19999999999999 +- 1.9131126469708972\n",
      "Clusters 9 Average accuracy =  90.85000000000001 +- 1.8980252896102299\n",
      "Clusters 10 Average accuracy =  90.75000000000001 +- 2.0766559657295183\n",
      "Clusters 11 Average accuracy =  90.75 +- 2.0031225624010123\n",
      "Clusters 12 Average accuracy =  90.95 +- 1.849999999999998\n",
      "Clusters 13 Average accuracy =  90.75000000000001 +- 1.7066048165876004\n",
      "Clusters 14 Average accuracy =  90.64999999999999 +- 2.1336588293351872\n"
     ]
    }
   ],
   "source": [
    "x_match_total = x_tune_slim[['matchDuration','totalDistance']]\n",
    "x_heal_kill = x_tune_slim[['healItems','killsAssist']]\n",
    "\n",
    "# X1 = df_imputed[['Pclass','Fare']]\n",
    "# X2 = df_imputed[['Age','Parch','SibSp']]\n",
    "\n",
    "params = []\n",
    "\n",
    "# we will vary parameters on match-total with # clusters 4 - 14\n",
    "for x_match in range(4,15):\n",
    "   # for x_heal in range(16,19):\n",
    "        # get the first clustering\n",
    "        cls_match_total = KMeans(n_clusters=x_match, init='k-means++',random_state=17)\n",
    "        cls_match_total.fit(x_match_total)\n",
    "        newfeature_match_total = cls_match_total.labels_ # the labels from kmeans clustering\n",
    "\n",
    "        # # append on the second clustering\n",
    "        # cls_heal_kill = KMeans(n_clusters=x_heal, init='k-means++',random_state=17)\n",
    "        # cls_heal_kill.fit(x_heal_kill)\n",
    "        # newfeature_heal_kill = cls_heal_kill.labels_ # the labels from kmeans clustering\n",
    "\n",
    "        y = y_tune_slim.loc[:, ('quart_binary')]\n",
    "        X = x_tune_slim.loc[:, cols_df]\n",
    "        X = np.column_stack((X,pd.get_dummies(newfeature_match_total)))\n",
    "        # X = np.column_stack((X,pd.get_dummies(newfeature_match_total),pd.get_dummies(newfeature_heal_kill)))\n",
    "\n",
    "        acc = cross_val_score(clf,X,y=y,cv=cv)\n",
    "        params.append((x_match,acc.mean()*100,acc.std()*100)) # save state\n",
    "        # params.append((x_match,x_heal,acc.mean()*100,acc.std()*100)) # save state\n",
    "\n",
    "        print (\"Clusters\",x_match,\"Average accuracy = \", acc.mean()*100, \"+-\", acc.std()*100)\n",
    "        # print (\"Clusters\",x_match,x_heal,\"Average accuracy = \", acc.mean()*100, \"+-\", acc.std()*100)\n",
    "\n",
    "# reference: 09.Clustering and discretization.ipynb"
   ]
  },
  {
   "cell_type": "markdown",
   "metadata": {},
   "source": [
    "It seems that about the best we can do with these new discretization methods is around 91.3%. All the models are within one standard deviation of each other, so most clustering in this range are pretty reasonable."
   ]
  },
  {
   "cell_type": "markdown",
   "metadata": {},
   "source": [
    "Next, let's capture accuracy & standard deviation when we combine 2 clusters. <br/>\n",
    "We will adjust the number of clusters for `matchDuration`/`totalDistance` and `healItems`/`killsAssist` and see what performance looks like."
   ]
  },
  {
   "cell_type": "markdown",
   "metadata": {},
   "source": [
    "**Cluster definitions:** <br/>\n",
    "1. Cluster 1 (`match_total`): Builds additional attributes from clusters on `matchDuration`/`totalDistance` <br/>\n",
    "2. Cluster 2 (`heal_kill`): Builds additional attributes from clusters on `healItems`/`killsAssist` <br/>\n",
    "\n",
    "The loop below builds a model that includes **both** clusterings, and returns the average accuracy score (from cross validation), and the average standard deviation for every cluster-count combination of the 2 groupings (Cluster 1, Cluster 2). <br/>"
   ]
  },
  {
   "cell_type": "code",
   "execution_count": 57,
   "metadata": {},
   "outputs": [
    {
     "name": "stdout",
     "output_type": "stream",
     "text": [
      "Clusters 4 3 Average accuracy =  90.95 +- 1.5239750654128161\n",
      "Clusters 4 4 Average accuracy =  90.95 +- 1.556438241627337\n",
      "Clusters 4 5 Average accuracy =  91.25 +- 1.6007810593582112\n",
      "Clusters 4 6 Average accuracy =  91.05000000000001 +- 1.6039014932345428\n",
      "Clusters 4 7 Average accuracy =  90.7 +- 1.8193405398660247\n",
      "Clusters 5 3 Average accuracy =  91.05000000000001 +- 1.4908051515875564\n",
      "Clusters 5 4 Average accuracy =  91.20000000000002 +- 1.5198684153570656\n",
      "Clusters 5 5 Average accuracy =  91.1 +- 1.5620499351813322\n",
      "Clusters 5 6 Average accuracy =  90.9 +- 1.8275666882497057\n",
      "Clusters 5 7 Average accuracy =  90.85000000000001 +- 1.7755280904564699\n",
      "Clusters 6 3 Average accuracy =  90.9 +- 1.8275666882497057\n",
      "Clusters 6 4 Average accuracy =  91.05000000000001 +- 1.916376789673679\n",
      "Clusters 6 5 Average accuracy =  90.7 +- 1.5524174696260016\n",
      "Clusters 6 6 Average accuracy =  90.7 +- 1.661324772583614\n",
      "Clusters 6 7 Average accuracy =  91.05000000000001 +- 1.6499999999999986\n",
      "Clusters 7 3 Average accuracy =  91.4 +- 1.8138357147217048\n",
      "Clusters 7 4 Average accuracy =  90.64999999999999 +- 2.1100947846009186\n",
      "Clusters 7 5 Average accuracy =  91.3 +- 1.8867962264113203\n",
      "Clusters 7 6 Average accuracy =  91.10000000000001 +- 1.6999999999999995\n",
      "Clusters 7 7 Average accuracy =  91.25000000000001 +- 1.9137659209004634\n",
      "Clusters 8 3 Average accuracy =  91.05000000000001 +- 1.7095320997278753\n",
      "Clusters 8 4 Average accuracy =  90.8 +- 1.8193405398660243\n",
      "Clusters 8 5 Average accuracy =  91.10000000000001 +- 1.6552945357246842\n",
      "Clusters 8 6 Average accuracy =  90.99999999999999 +- 1.8708286933869684\n",
      "Clusters 8 7 Average accuracy =  91.14999999999999 +- 1.7895530168173277\n"
     ]
    }
   ],
   "source": [
    "x_match_total = x_tune_slim[['matchDuration','totalDistance']]\n",
    "x_heal_kill = x_tune_slim[['healItems','killsAssist']]\n",
    "x_items_distance = x_tune_slim[['totalItems','totalDistance']]\n",
    "\n",
    "# X1 = df_imputed[['Pclass','Fare']]\n",
    "# X2 = df_imputed[['Age','Parch','SibSp']]\n",
    "\n",
    "params_k = []\n",
    "\n",
    "# we will vary parameters on match-total with # clusters 4 - 9\n",
    "for x_match in range(4,9):\n",
    "   for x_heal in range(3,8):\n",
    "        # get the first clustering\n",
    "        cls_match_total = KMeans(n_clusters=x_match, init='k-means++',random_state=17)\n",
    "        cls_match_total.fit(x_match_total)\n",
    "        newfeature_match_total = cls_match_total.labels_ # the labels from kmeans clustering\n",
    "\n",
    "        # # append on the second clustering\n",
    "        cls_heal_kill = KMeans(n_clusters=x_heal, init='k-means++',random_state=17)\n",
    "        cls_heal_kill.fit(x_heal_kill)\n",
    "        newfeature_heal_kill = cls_heal_kill.labels_ # the labels from kmeans clustering\n",
    "\n",
    "        y = y_tune_slim.loc[:, ('quart_binary')]\n",
    "        X = x_tune_slim.loc[:, cols_df]\n",
    "        # X = np.column_stack((X,pd.get_dummies(newfeature_match_total)))\n",
    "        X = np.column_stack((X,pd.get_dummies(newfeature_match_total),pd.get_dummies(newfeature_heal_kill)))\n",
    "\n",
    "        acc = cross_val_score(clf,X,y=y,cv=cv)\n",
    "        # params.append((x_match,acc.mean()*100,acc.std()*100)) # save state\n",
    "        params_k.append((x_match,x_heal,acc.mean()*100,acc.std()*100)) # save state\n",
    "\n",
    "        # print (\"Clusters\",x_match,\"Average accuracy = \", acc.mean()*100, \"+-\", acc.std()*100)\n",
    "        print (\"Clusters\",x_match,x_heal,\"Average accuracy = \", acc.mean()*100, \"+-\", acc.std()*100)\n",
    "\n",
    "# reference: 09.Clustering and discretization.ipynb"
   ]
  },
  {
   "cell_type": "markdown",
   "metadata": {},
   "source": [
    "Creating multiple clustering scenarios doesn't produce apparent benefit. These clusters are slightly tighter in terms of accuracy results. We appear to have two peaks in accuracy—one low at 4 & 3 clusters and one high at 7 & 3 clusters."
   ]
  },
  {
   "cell_type": "markdown",
   "metadata": {},
   "source": [
    "### AGGLOMERATIVE CLUSTERS\n",
    "\n",
    "Jump to [Top](#TOP)"
   ]
  },
  {
   "cell_type": "code",
   "execution_count": 58,
   "metadata": {},
   "outputs": [],
   "source": [
    "params = []\n",
    "difference = 100\n",
    "\n",
    "def avg(list):\n",
    "    avg = sum(list)/len(list)\n",
    "    return avg\n",
    "\n",
    "for aff in ['euclidean', 'cosine']:\n",
    "    for link in ['ward', 'complete', 'average']:\n",
    "        for n in range(1,10):\n",
    "            try:\n",
    "                cls_hac = AgglomerativeClustering(n_clusters=n, affinity= aff, linkage=link)\n",
    "                cls_hac.fit(x_tune_slim)\n",
    "                newfeature = cls_hac.labels_\n",
    "\n",
    "                x=np.column_stack((x_tune_slim, pd.get_dummies(newfeature)))\n",
    "\n",
    "                acc = cross_val_score(clf,x,y=y_tune_slim['quart_binary'], cv=cv)\n",
    "                params.append((n,aff,link,acc.mean()*100,acc.std()*100))\n",
    "\n",
    "                # print(\"C=\",n,aff,link,\"Average accuracy = \", acc.mean()*100, \"+-\", acc.std()*100)\n",
    "            except:\n",
    "                continue\n",
    "\n",
    "hac_result = pd.DataFrame(params, columns=['n', 'affinity', 'linkage', 'mean', 'standard_deviation'])"
   ]
  },
  {
   "cell_type": "code",
   "execution_count": 59,
   "metadata": {},
   "outputs": [],
   "source": [
    "hac_result['difference'] = abs((hac_result['mean'] + hac_result['standard_deviation']) - (hac_result['mean'] - hac_result['standard_deviation']))\n",
    "# hac_result[hac_result.difference == hac_result.difference.min()]"
   ]
  },
  {
   "cell_type": "code",
   "execution_count": 60,
   "metadata": {},
   "outputs": [
    {
     "data": {
      "text/html": [
       "<div>\n",
       "<style scoped>\n",
       "    .dataframe tbody tr th:only-of-type {\n",
       "        vertical-align: middle;\n",
       "    }\n",
       "\n",
       "    .dataframe tbody tr th {\n",
       "        vertical-align: top;\n",
       "    }\n",
       "\n",
       "    .dataframe thead th {\n",
       "        text-align: right;\n",
       "    }\n",
       "</style>\n",
       "<table border=\"1\" class=\"dataframe\">\n",
       "  <thead>\n",
       "    <tr style=\"text-align: right;\">\n",
       "      <th></th>\n",
       "      <th>n</th>\n",
       "      <th>affinity</th>\n",
       "      <th>linkage</th>\n",
       "      <th>mean</th>\n",
       "      <th>standard_deviation</th>\n",
       "      <th>difference</th>\n",
       "    </tr>\n",
       "  </thead>\n",
       "  <tbody>\n",
       "    <tr>\n",
       "      <th>37</th>\n",
       "      <td>2</td>\n",
       "      <td>cosine</td>\n",
       "      <td>average</td>\n",
       "      <td>90.40</td>\n",
       "      <td>1.545962</td>\n",
       "      <td>3.091925</td>\n",
       "    </tr>\n",
       "    <tr>\n",
       "      <th>14</th>\n",
       "      <td>6</td>\n",
       "      <td>euclidean</td>\n",
       "      <td>complete</td>\n",
       "      <td>90.90</td>\n",
       "      <td>1.562050</td>\n",
       "      <td>3.124100</td>\n",
       "    </tr>\n",
       "    <tr>\n",
       "      <th>30</th>\n",
       "      <td>4</td>\n",
       "      <td>cosine</td>\n",
       "      <td>complete</td>\n",
       "      <td>90.85</td>\n",
       "      <td>1.566046</td>\n",
       "      <td>3.132092</td>\n",
       "    </tr>\n",
       "    <tr>\n",
       "      <th>3</th>\n",
       "      <td>4</td>\n",
       "      <td>euclidean</td>\n",
       "      <td>ward</td>\n",
       "      <td>91.10</td>\n",
       "      <td>1.593738</td>\n",
       "      <td>3.187475</td>\n",
       "    </tr>\n",
       "    <tr>\n",
       "      <th>44</th>\n",
       "      <td>9</td>\n",
       "      <td>cosine</td>\n",
       "      <td>average</td>\n",
       "      <td>90.45</td>\n",
       "      <td>1.634778</td>\n",
       "      <td>3.269557</td>\n",
       "    </tr>\n",
       "  </tbody>\n",
       "</table>\n",
       "</div>"
      ],
      "text/plain": [
       "    n   affinity   linkage   mean  standard_deviation  difference\n",
       "37  2     cosine   average  90.40            1.545962    3.091925\n",
       "14  6  euclidean  complete  90.90            1.562050    3.124100\n",
       "30  4     cosine  complete  90.85            1.566046    3.132092\n",
       "3   4  euclidean      ward  91.10            1.593738    3.187475\n",
       "44  9     cosine   average  90.45            1.634778    3.269557"
      ]
     },
     "execution_count": 60,
     "metadata": {},
     "output_type": "execute_result"
    }
   ],
   "source": [
    "hac_result.sort_values(by='difference', ascending = True).head(5)"
   ]
  },
  {
   "cell_type": "code",
   "execution_count": 85,
   "metadata": {},
   "outputs": [
    {
     "ename": "AttributeError",
     "evalue": "'DataFrame' object has no attribute 'best_result_'",
     "output_type": "error",
     "traceback": [
      "\u001b[1;31m---------------------------------------------------------------------------\u001b[0m",
      "\u001b[1;31mAttributeError\u001b[0m                            Traceback (most recent call last)",
      "\u001b[1;32m~\\AppData\\Local\\Temp/ipykernel_2296/131624564.py\u001b[0m in \u001b[0;36m<module>\u001b[1;34m\u001b[0m\n\u001b[1;32m----> 1\u001b[1;33m \u001b[0mhac_result\u001b[0m\u001b[1;33m.\u001b[0m\u001b[0mbest_result_\u001b[0m\u001b[1;33m\u001b[0m\u001b[1;33m\u001b[0m\u001b[0m\n\u001b[0m",
      "\u001b[1;32m~\\anaconda3\\lib\\site-packages\\pandas\\core\\generic.py\u001b[0m in \u001b[0;36m__getattr__\u001b[1;34m(self, name)\u001b[0m\n\u001b[0;32m   5485\u001b[0m         ):\n\u001b[0;32m   5486\u001b[0m             \u001b[1;32mreturn\u001b[0m \u001b[0mself\u001b[0m\u001b[1;33m[\u001b[0m\u001b[0mname\u001b[0m\u001b[1;33m]\u001b[0m\u001b[1;33m\u001b[0m\u001b[1;33m\u001b[0m\u001b[0m\n\u001b[1;32m-> 5487\u001b[1;33m         \u001b[1;32mreturn\u001b[0m \u001b[0mobject\u001b[0m\u001b[1;33m.\u001b[0m\u001b[0m__getattribute__\u001b[0m\u001b[1;33m(\u001b[0m\u001b[0mself\u001b[0m\u001b[1;33m,\u001b[0m \u001b[0mname\u001b[0m\u001b[1;33m)\u001b[0m\u001b[1;33m\u001b[0m\u001b[1;33m\u001b[0m\u001b[0m\n\u001b[0m\u001b[0;32m   5488\u001b[0m \u001b[1;33m\u001b[0m\u001b[0m\n\u001b[0;32m   5489\u001b[0m     \u001b[1;32mdef\u001b[0m \u001b[0m__setattr__\u001b[0m\u001b[1;33m(\u001b[0m\u001b[0mself\u001b[0m\u001b[1;33m,\u001b[0m \u001b[0mname\u001b[0m\u001b[1;33m:\u001b[0m \u001b[0mstr\u001b[0m\u001b[1;33m,\u001b[0m \u001b[0mvalue\u001b[0m\u001b[1;33m)\u001b[0m \u001b[1;33m->\u001b[0m \u001b[1;32mNone\u001b[0m\u001b[1;33m:\u001b[0m\u001b[1;33m\u001b[0m\u001b[1;33m\u001b[0m\u001b[0m\n",
      "\u001b[1;31mAttributeError\u001b[0m: 'DataFrame' object has no attribute 'best_result_'"
     ]
    }
   ],
   "source": [
    "hac_result.best_result_"
   ]
  },
  {
   "cell_type": "markdown",
   "metadata": {},
   "source": [
    "<a id='ME2'></a>"
   ]
  },
  {
   "cell_type": "markdown",
   "metadata": {},
   "source": [
    "# **Modeling and Evaluation 2**\n",
    "\n",
    "Jump to [Top](#TOP)\n",
    "\n",
    "*Assignment: Evaluate and compare models.*"
   ]
  },
  {
   "cell_type": "markdown",
   "metadata": {},
   "source": [
    "**T-Test to compare best accuracy record with best standard deviation record.** <br/>\n",
    "This demonstrates that the difference in these scores is not of statistical significance. (We can use any one for our model.)"
   ]
  },
  {
   "cell_type": "code",
   "execution_count": 61,
   "metadata": {},
   "outputs": [
    {
     "data": {
      "text/html": [
       "<div>\n",
       "<style scoped>\n",
       "    .dataframe tbody tr th:only-of-type {\n",
       "        vertical-align: middle;\n",
       "    }\n",
       "\n",
       "    .dataframe tbody tr th {\n",
       "        vertical-align: top;\n",
       "    }\n",
       "\n",
       "    .dataframe thead th {\n",
       "        text-align: right;\n",
       "    }\n",
       "</style>\n",
       "<table border=\"1\" class=\"dataframe\">\n",
       "  <thead>\n",
       "    <tr style=\"text-align: right;\">\n",
       "      <th></th>\n",
       "      <th>cluster_x_match</th>\n",
       "      <th>cluster_x_heal</th>\n",
       "      <th>avg_accuracy</th>\n",
       "      <th>avg_stdev</th>\n",
       "    </tr>\n",
       "  </thead>\n",
       "  <tbody>\n",
       "    <tr>\n",
       "      <th>0</th>\n",
       "      <td>4</td>\n",
       "      <td>3</td>\n",
       "      <td>90.95</td>\n",
       "      <td>1.523975</td>\n",
       "    </tr>\n",
       "    <tr>\n",
       "      <th>1</th>\n",
       "      <td>4</td>\n",
       "      <td>4</td>\n",
       "      <td>90.95</td>\n",
       "      <td>1.556438</td>\n",
       "    </tr>\n",
       "    <tr>\n",
       "      <th>2</th>\n",
       "      <td>4</td>\n",
       "      <td>5</td>\n",
       "      <td>91.25</td>\n",
       "      <td>1.600781</td>\n",
       "    </tr>\n",
       "    <tr>\n",
       "      <th>3</th>\n",
       "      <td>4</td>\n",
       "      <td>6</td>\n",
       "      <td>91.05</td>\n",
       "      <td>1.603901</td>\n",
       "    </tr>\n",
       "    <tr>\n",
       "      <th>4</th>\n",
       "      <td>4</td>\n",
       "      <td>7</td>\n",
       "      <td>90.70</td>\n",
       "      <td>1.819341</td>\n",
       "    </tr>\n",
       "  </tbody>\n",
       "</table>\n",
       "</div>"
      ],
      "text/plain": [
       "   cluster_x_match  cluster_x_heal  avg_accuracy  avg_stdev\n",
       "0                4               3         90.95   1.523975\n",
       "1                4               4         90.95   1.556438\n",
       "2                4               5         91.25   1.600781\n",
       "3                4               6         91.05   1.603901\n",
       "4                4               7         90.70   1.819341"
      ]
     },
     "execution_count": 61,
     "metadata": {},
     "output_type": "execute_result"
    }
   ],
   "source": [
    "column_names = ['cluster_x_match','cluster_x_heal','avg_accuracy','avg_stdev']\n",
    "params_df = pd.DataFrame(params_k, columns = column_names)\n",
    "\n",
    "#print(params)\n",
    "params_df.head()"
   ]
  },
  {
   "cell_type": "code",
   "execution_count": 62,
   "metadata": {},
   "outputs": [
    {
     "name": "stdout",
     "output_type": "stream",
     "text": [
      "    cluster_x_match  cluster_x_heal  avg_accuracy  avg_stdev\n",
      "15                7               3          91.4   1.813836\n"
     ]
    }
   ],
   "source": [
    "# look at that record in params_df\n",
    "print(params_df[params_df.avg_accuracy == params_df.avg_accuracy.max()])"
   ]
  },
  {
   "cell_type": "markdown",
   "metadata": {},
   "source": [
    "Our best accuracy is shown here (91.4%) when we have 7 clusters for `matchDuration`/`totalDistance` and 3 clusters for `healItems`/`killsAssist`.."
   ]
  },
  {
   "cell_type": "code",
   "execution_count": 63,
   "metadata": {},
   "outputs": [
    {
     "name": "stdout",
     "output_type": "stream",
     "text": [
      "   cluster_x_match  cluster_x_heal  avg_accuracy  avg_stdev\n",
      "5                5               3         91.05   1.490805\n"
     ]
    }
   ],
   "source": [
    "# MOVE TO MODEL-EVAL-2\n",
    "# look at that record in params_df\n",
    "print(params_df[params_df.avg_stdev == params_df.avg_stdev.min()])"
   ]
  },
  {
   "cell_type": "markdown",
   "metadata": {},
   "source": [
    "Our best standard deviation is (1.49%) when we have 4 clusters for `matchDuration`/`totalDistance` and 5 clusters for `healItems`/`killsAssist`."
   ]
  },
  {
   "cell_type": "code",
   "execution_count": 79,
   "metadata": {},
   "outputs": [
    {
     "name": "stdout",
     "output_type": "stream",
     "text": [
      "5    91.05\n",
      "Name: avg_accuracy, dtype: float64 5    1.490805\n",
      "Name: avg_stdev, dtype: float64\n",
      "15    91.4\n",
      "Name: avg_accuracy, dtype: float64 15    1.813836\n",
      "Name: avg_stdev, dtype: float64\n"
     ]
    }
   ],
   "source": [
    "# MOVE TO MODEL-EVAL-2\n",
    "# get standard deviation scores to compare using T-test\n",
    "a_stdev_stg = params_df[params_df.avg_stdev == params_df.avg_stdev.min()]\n",
    "a_avg = a_stdev_stg['avg_accuracy']\n",
    "a_stdev = a_stdev_stg['avg_stdev']\n",
    "\n",
    "b_stdev_stg = params_df[params_df.avg_accuracy == params_df.avg_accuracy.max()]\n",
    "b_avg = b_stdev_stg['avg_accuracy']\n",
    "b_stdev = b_stdev_stg['avg_stdev']"
   ]
  },
  {
   "cell_type": "code",
   "execution_count": 82,
   "metadata": {},
   "outputs": [
    {
     "name": "stdout",
     "output_type": "stream",
     "text": [
      "Ttest_indResult(statistic=array([-0.47140452]), pvalue=array([0.6430152]))\n",
      "a_stdev not different from b_stdev\n"
     ]
    }
   ],
   "source": [
    "from scipy import stats\n",
    "t_check=stats.ttest_ind_from_stats(mean1=a_avg, std1=a_stdev, nobs1=10,\n",
    "                                   mean2=b_avg, std2=b_stdev, nobs2=10)\n",
    "alpha=0.05\n",
    "\n",
    "if(t_check[1]<alpha):\n",
    "    print('a_stdev different from b_stdev')\n",
    "else: \n",
    "    print('a_stdev not different from b_stdev')"
   ]
  },
  {
   "cell_type": "markdown",
   "metadata": {},
   "source": [
    "The **t-test** suggests that there is not a statistically significant difference between the accuracy with `cluster_x_match`=7/`cluster_x_heal`=3 as compared to `cluster_x_match`=5/`cluster_x_heal`=3. This is as expected; we can't *tease* out any additional information with clustering with KMeans."
   ]
  },
  {
   "cell_type": "markdown",
   "metadata": {},
   "source": [
    "<a id='ME3'></a>"
   ]
  },
  {
   "cell_type": "markdown",
   "metadata": {},
   "source": [
    "# **Modeling and Evaluation 3**\n",
    "\n",
    "Jump to [Top](#TOP)\n",
    "\n",
    "*Assignment: Visualize results of model comparisons.*\n",
    "\n",
    "SUGGESTED ACTION: \n",
    "\n",
    "Make subsections: \n",
    "* (1) silhouette plot for KMEANS\n",
    "* (2) silhouette plot for HAC\n",
    "* (3) accuracy for KMEANS on TEST data\n",
    "* (4) accuracy for HAC on TEST data. (if takes long time to run, sample 5000 records from TEST)"
   ]
  },
  {
   "cell_type": "markdown",
   "metadata": {},
   "source": [
    "### Evaluation of clusters = silhouette coefficient"
   ]
  },
  {
   "cell_type": "markdown",
   "metadata": {},
   "source": [
    "The *\"silhouette coefficient or silhouette score is a metric used to calculate the goodness of a clustering technique. Its value ranges from -1 to 1. 1: Means clusters are well apart from each other and clearly distinguished.\"*\n",
    "\n",
    "*reference: https://towardsdatascience.com/silhouette-coefficient-validating-clustering-techniques-e976bb81d10c*"
   ]
  },
  {
   "cell_type": "code",
   "execution_count": 68,
   "metadata": {},
   "outputs": [],
   "source": [
    "# do it for the k-means\n",
    "from sklearn.cluster import KMeans\n",
    "from sklearn import metrics\n",
    "from sklearn.metrics import silhouette_score\n",
    "\n",
    "seuclid = []\n",
    "scosine = []\n",
    "\n",
    "k = range(2,10)\n",
    "for i in k:\n",
    "    kmeans_model = KMeans(n_clusters=i, init=\"k-means++\").fit(x_tune_slim)\n",
    "    labels = kmeans_model.labels_\n",
    "    seuclid.append(metrics.silhouette_score(x_tune_slim, labels, metric='euclidean'))\n",
    "    scosine.append(metrics.silhouette_score(x_tune_slim, labels, metric='cosine'))"
   ]
  },
  {
   "cell_type": "code",
   "execution_count": 69,
   "metadata": {},
   "outputs": [
    {
     "data": {
      "image/png": "[encoded data removed]",
      "text/plain": [
       "<Figure size 720x360 with 1 Axes>"
      ]
     },
     "metadata": {},
     "output_type": "display_data"
    }
   ],
   "source": [
    "plt.figure(figsize=(10,5))\n",
    "plt.plot(k,seuclid,label='euclidean')\n",
    "plt.plot(k,scosine,label='cosine')\n",
    "plt.ylabel(\"Silhouette\")\n",
    "plt.xlabel(\"Cluster\")\n",
    "plt.title(\"Silhouette vs Cluster Size\")\n",
    "plt.legend()\n",
    "plt.show()"
   ]
  },
  {
   "cell_type": "markdown",
   "metadata": {},
   "source": [
    "### Hierarchical Agglomerative Clustering - Visualizations\n",
    "\n",
    "Jump to [top](#TOP)"
   ]
  },
  {
   "cell_type": "code",
   "execution_count": 74,
   "metadata": {},
   "outputs": [],
   "source": [
    "hc = AgglomerativeClustering(n_clusters=2, affinity = 'cosine', linkage = 'average')\n",
    "hc.fit(x_tune_slim)\n",
    "hac_labels = hc.labels_"
   ]
  },
  {
   "cell_type": "code",
   "execution_count": 75,
   "metadata": {},
   "outputs": [
    {
     "data": {
      "text/plain": [
       "Text(0.5, 1.0, 'HAC (3 clusters, Euclidean, Average)')"
      ]
     },
     "execution_count": 75,
     "metadata": {},
     "output_type": "execute_result"
    },
    {
     "data": {
      "image/png": "[encoded data removed]",
      "text/plain": [
       "<Figure size 576x396 with 1 Axes>"
      ]
     },
     "metadata": {},
     "output_type": "display_data"
    }
   ],
   "source": [
    "plt.scatter(x_tune_slim['rideDistance'],x_tune_slim['matchDuration'], c=hc.labels_, cmap = plt.cm.rainbow)\n",
    "plt.xlabel('rideDistance')\n",
    "plt.ylabel('matchDuration')\n",
    "plt.grid(c='black',linewidth=0.5)\n",
    "ax=plt.gca()\n",
    "ax.set_facecolor('white')\n",
    "plt.title('HAC (3 clusters, Euclidean, Average)')"
   ]
  },
  {
   "cell_type": "markdown",
   "metadata": {},
   "source": [
    "Based on the scatter plot we created, we can determine that the clustering method doesn't produce a high degree of separation within our dataset. It seems that the clustering is very random since there isn't a clearly defined linear separation between our red and purple classes."
   ]
  },
  {
   "cell_type": "code",
   "execution_count": 76,
   "metadata": {},
   "outputs": [
    {
     "data": {
      "image/png": "[encoded data removed]",
      "text/plain": [
       "<Figure size 720x360 with 1 Axes>"
      ]
     },
     "metadata": {},
     "output_type": "display_data"
    }
   ],
   "source": [
    "seuclid = []\n",
    "scosine = []\n",
    "\n",
    "k = range(2,10)\n",
    "for i in k:\n",
    "    hc_model = AgglomerativeClustering(n_clusters=i, linkage = 'average').fit(x_tune_slim)\n",
    "    labels = hc_model.labels_\n",
    "    seuclid.append(metrics.silhouette_score(x_tune_slim, labels, metric='euclidean'))\n",
    "    scosine.append(metrics.silhouette_score(x_tune_slim, labels, metric='cosine'))\n",
    "    \n",
    "plt.figure(figsize=(10,5))\n",
    "plt.plot(k,seuclid,label='euclidean')\n",
    "plt.plot(k,scosine,label='cosine')\n",
    "plt.ylabel(\"Silhouette\")\n",
    "plt.xlabel(\"Cluster\")\n",
    "plt.title(\"Silhouette vs Cluster Size\")\n",
    "plt.legend()\n",
    "plt.show()"
   ]
  },
  {
   "cell_type": "markdown",
   "metadata": {},
   "source": [
    "Comparing the Silhouette score for both Euclidean and Cosine, there is a clear similar trend between the distance metrics. However, Cosine's Silhouette score shows that its trend is hovering near 0, denoting overlapping clusters. Additionally, it goes below 0 which tells us that the data points are wrongly assinged to a cluster as we can see (above) in the scatter plot."
   ]
  },
  {
   "cell_type": "code",
   "execution_count": 84,
   "metadata": {},
   "outputs": [
    {
     "name": "stdout",
     "output_type": "stream",
     "text": [
      "Average accuracy (with kmeans for matchDuration/totalDistance)=  92.10392019663368 +- 0.17108095385156977\n"
     ]
    }
   ],
   "source": [
    "# MATCH DURATION + TOTAL DISTANCE (ON X_TEST)\n",
    "\n",
    "x_match_total = x_test[['matchDuration','totalDistance']]\n",
    "cls_match_total = KMeans(n_clusters=8, init='k-means++',random_state=17)\n",
    "cls_match_total.fit(x_match_total)\n",
    "newfeature_match_total = cls_match_total.labels_ # the labels from kmeans clustering\n",
    "cv_match_total = StratifiedKFold(n_splits=10)\n",
    "x_match_total = x_test.loc[:, cols_df]\n",
    "y_match_total = y_test.loc[:, ('quart_binary')]\n",
    "x_match_total = np.column_stack((x_match_total,pd.get_dummies(newfeature_match_total)))\n",
    "acc_match_total = cross_val_score(clf,x_match_total,y=y_match_total,cv=cv_match_total)\n",
    "print (\"Average accuracy (with kmeans for matchDuration/totalDistance)= \", acc_match_total.mean()*100, \"+-\", acc_match_total.std()*100)"
   ]
  },
  {
   "cell_type": "code",
   "execution_count": 87,
   "metadata": {},
   "outputs": [],
   "source": [
    "# Agglomerative Clustering has memory-space error if run on full x_test\n",
    "indices_slim2 = x_test.sample(n=2000, replace=False, random_state=17).index\n",
    "x_test_slim = x_test.loc[indices_slim2, :]\n",
    "y_test_slim = y_test.loc[indices_slim2, :]"
   ]
  },
  {
   "cell_type": "code",
   "execution_count": 89,
   "metadata": {},
   "outputs": [
    {
     "name": "stdout",
     "output_type": "stream",
     "text": [
      "Average accuracy (with kmeans for matchDuration/totalDistance)=  90.75 +- 1.8200274723201293\n"
     ]
    }
   ],
   "source": [
    "cv_match_total = StratifiedKFold(n_splits=10)\n",
    "x_test = x_test_slim.loc[:, cols_df]\n",
    "y_test = y_test_slim.loc[:, ('quart_binary')]\n",
    "acc_match_total1 = cross_val_score(clf,x_test,y=y_test,cv=cv_match_total)\n",
    "print (\"Average accuracy (with kmeans for matchDuration/totalDistance)= \", acc_match_total1.mean()*100, \"+-\", acc_match_total.std()*100)"
   ]
  },
  {
   "cell_type": "code",
   "execution_count": 93,
   "metadata": {},
   "outputs": [
    {
     "name": "stdout",
     "output_type": "stream",
     "text": [
      "Baseline average accuracy =  90.75 +- 1.8200274723201293\n"
     ]
    }
   ],
   "source": [
    "X = x_test.loc[:, cols_df]\n",
    "y = y_test\n",
    "cv = StratifiedKFold(n_splits=10)\n",
    "\n",
    "# clf is the Random classifier model\n",
    "acc1 = cross_val_score(clf, X=X, y=y, cv=cv)\n",
    "\n",
    "print (\"Baseline average accuracy = \", acc1.mean()*100, \"+-\", acc1.std()*100)"
   ]
  },
  {
   "cell_type": "markdown",
   "metadata": {},
   "source": [
    "Based on our final externally cross-validated test analysis, we find the KMeans process with `matchDuration` + `totalDistance` clusters (n=8) to be the best model for predicting `quart_binary`, our response of interest."
   ]
  },
  {
   "cell_type": "markdown",
   "metadata": {},
   "source": [
    "<a id='ME4'></a>"
   ]
  },
  {
   "cell_type": "markdown",
   "metadata": {},
   "source": [
    "# **Modeling and Evaluation 4**\n",
    "\n",
    "Jump to [Top](#TOP)\n",
    "\n",
    "*Assignment: Summarize the ramifications.*"
   ]
  },
  {
   "cell_type": "markdown",
   "metadata": {},
   "source": [
    "Clustering may help identify hidden trends and produce improved analysis, leveraging it in predicting `quart_binar` (our developed feature from the original `winPlacePerc` continuous variable). This ends up as the case for us as well, since it produced an improved prediction. Our final accuracy score from this model was **92.1039 +- 0.1711** as compared with the \"baseline\" RandomForestClassifier which had a score of **90.75 +- 1.8200** on the new, `x_test` data.\n",
    "\n",
    "Due to the wider variance found in the RandomForest model, we do not expect the results to be verifiable via Student's t-test analysis. However, we would be hesitant to recommend this model to a client alone. While there *was* additional information to tease out of the data with clustering, it is unclear whether this is the most useful tool for PUBG placement predictions.\n",
    "\n",
    "We suggest that the results we have found here could be used as a start for additional feature selection—specifically for ranked matches.\n",
    "\n",
    "For future analysis, we may switch to F1-score analysis as an improved metric in prediction capability. Also, we would be interested in pursuing the Agglomerative Clustering mechanism if it was capable of processing larger amounts of information."
   ]
  },
  {
   "cell_type": "markdown",
   "metadata": {},
   "source": [
    "<a id='DEPLOYMENT'></a>"
   ]
  },
  {
   "cell_type": "markdown",
   "metadata": {},
   "source": [
    "# **DEPLOYMENT**\n",
    "\n",
    "Jump to [Top](#TOP)\n",
    "\n",
    "*Assignment: Be critical of your performance and tell the reader how you current model might be usable by other parties.* "
   ]
  },
  {
   "cell_type": "markdown",
   "metadata": {},
   "source": [
    "**Q1: Did you achieve your goals?**\n",
    "\n",
    "One of the limitations we artificially imposed on ourselves was removing the `matchID` and `groupID` classifiers. These categoricals were essential to the original winners of the Kaggle competition in helping them assign `winPlacePerc` in the most accurate fashion.\n",
    "\n",
    "Our approach focused more on individual player stats, so this is a benefit of our model over theirs: ours is more generalizable.\n",
    "\n",
    "While we did improve our prediction capabilities over the baseline *RandomForestClassifier*, the result isn't statistically significant. It is *practially* significant, and for that we are grateful for this exercise."
   ]
  },
  {
   "cell_type": "markdown",
   "metadata": {},
   "source": [
    "**Q2: If not, can you reign in the utility of your modeling?**\n",
    "\n",
    "One of the strongest pieces of evidence for this model was the fact that we produced a smaller standard deviation than the Random Forest classifier."
   ]
  },
  {
   "cell_type": "markdown",
   "metadata": {},
   "source": [
    "**Q3: How useful is your model for interested parties (i.e., the companies or organizations that might want to use it)?**\n",
    "\n",
    "While this approach by itself isn't more useful than the RandomForestClassifier, it is important to note that not much more information can be extracted from player-stats alone."
   ]
  },
  {
   "cell_type": "markdown",
   "metadata": {},
   "source": [
    "**Q4: How would your deploy your model for interested parties?**\n",
    "\n",
    "One possibility for deployment would be to generate an R-shiny application or convert our Python-based modeling into equivalent Javascript for a web-based deployment. This would be a tool that could be managed and updated by a team rather than giving full access to the client."
   ]
  },
  {
   "cell_type": "markdown",
   "metadata": {},
   "source": [
    "**Q5: What other data should be collected?**\n",
    "\n",
    "If clients were interested in betting on well-known teams and individuals, we may be able to tailor this analysis to those specific requests. One of the downsides of the Kaggle data is that it is anonymized.\n",
    "\n",
    "A different approach would be to utilize clustering and classification or regression models to generate strong team-pairings based on individual e-sport competitors' stats and strategies."
   ]
  },
  {
   "cell_type": "markdown",
   "metadata": {},
   "source": [
    "**Q6: How often would the model need to be updated, etc.?**\n",
    "\n",
    "Thankfully, the model need only be updated whenever there is a major tournament or event in PUBG. It could be run more frequently depending on frequency of events, but typically this approach would only need to be done once, prior to the event."
   ]
  },
  {
   "cell_type": "markdown",
   "metadata": {},
   "source": [
    "<a id='EXCEPTIONAL'></a>"
   ]
  },
  {
   "cell_type": "markdown",
   "metadata": {},
   "source": [
    "# **EXCEPTIONAL WORK**\n",
    "\n",
    "Jump to [Top](#TOP)\n",
    "\n",
    "*Assignment: You have free reign to provide additional analyses or combine analyses.*"
   ]
  },
  {
   "cell_type": "markdown",
   "metadata": {},
   "source": [
    "* Performed additional EDA on attributes that might be useful for clusters.\n",
    "* Performed additional T-Tests to assess KMEANS & HAC model parameters performance.\n",
    "* Created additional (new) attributes to aid with our clusters.\n",
    "* Utilized Silhouette score to inform modeling."
   ]
  },
  {
   "cell_type": "markdown",
   "metadata": {},
   "source": [
    "<a id='APPENDIX'></a>"
   ]
  },
  {
   "cell_type": "markdown",
   "metadata": {},
   "source": [
    "# **APPENDIX**\n",
    "\n",
    "Jump to [Top](#TOP)"
   ]
  },
  {
   "cell_type": "markdown",
   "metadata": {},
   "source": [
    "## DATA DEFINITIONS"
   ]
  },
  {
   "cell_type": "markdown",
   "metadata": {},
   "source": [
    "### Original variables\n",
    "\n",
    "The first three attributes (see above)—*Id*, *groupID*, and *matchID*—are alpha-numeric identifiers for the players, the teams/groups, and the individual matches that players participated in. These are stored as objects but could also be identified as strings.\n",
    "\n",
    "The variables of type integer are *assists*, *boosts*, *DBNO*s, *headshotKills*, *heals*, *killPlace*, *killPoints*, *kills*, *killStreaks*, *matchDuration*, *maxPlace*, *numGroups*, *rankPoints*, *revives*, *roadKills*, *teamKills*, *vehicleDestroys*, *weaponsAcquired*, and *winPoints*.\n",
    "\n",
    "* DBNOs = Number of enemy players knocked. DBNO means “down but not out.” Essentially, “knocked” means to be knocked out. When a player is knocked, they lose their ability to shoot, move quickly, and to hold a gun. Players do not die instantly when knocked, when playing in a group (on a team) - other members of the team can revive a knocked player.\n",
    "\n",
    "* assists = Number of enemy players this player damaged that were killed by teammates.\n",
    "\n",
    "* boosts = Number of boost items used. Boost items are things that improve a player’s health, examples are energy drinks, painkillers, and adrenaline syringes.\n",
    "\n",
    "* damageDealt = Total damage dealt. Note: Self inflicted damage is subtracted.\n",
    "\n",
    "* headshotKills = Number of enemy players killed with headshots. \n",
    "\n",
    "* heals = Number of healing items used.\n",
    "* Id - Player’s Id\n",
    "\n",
    "* killPlace = Ranking in match of number of enemy players killed.\n",
    "\n",
    "* killPoints = Kills-based external ranking of player. (Think of this as an Elo ranking where only kills matter.) If there is a value other than -1 in rankPoints, then any 0 in killPoints should be treated as a “None”.\n",
    "\n",
    "* killStreaks = Max number of enemy players killed in a short amount of time.\n",
    "\n",
    "* kills = Number of enemy players killed.\n",
    "\n",
    "* longestKill = Longest distance between player and player killed at time of death. This may be misleading, as downing a player and driving away may lead to a large longestKill stat.\n",
    "\n",
    "* matchDuration = Duration of match in seconds.\n",
    "\n",
    "* matchId = ID to identify match. There are no matches that are in both the training and testing set.\n",
    "\n",
    "* matchType = String identifying the game mode that the data comes from. The standard modes are “solo”, “duo”, “squad”, “solo-fpp”, “duo-fpp”, and “squad-fpp”; other modes are from events or custom matches.\n",
    "\n",
    "* rankPoints = Elo-like ranking of player. This ranking is inconsistent and is being deprecated in the API’s next version, so use with caution. Value of -1 takes place of “None”.\n",
    "\n",
    "* revives = Number of times this player revived teammates.\n",
    "\n",
    "* rideDistance = Total distance traveled in vehicles measured in meters.\n",
    "\n",
    "* roadKills = Number of kills while in a vehicle.\n",
    "* swimDistance - Total distance traveled by swimming measured in meters.\n",
    "\n",
    "* teamKills = Number of times this player killed a teammate.\n",
    "\n",
    "* vehicleDestroys = Number of vehicles destroyed.\n",
    "\n",
    "* walkDistance = Total distance traveled on foot measured in meters.\n",
    "\n",
    "* weaponsAcquired = Number of weapons picked up.\n",
    "\n",
    "* winPoints = Win-based external ranking of player. (Think of this as an Elo ranking where only winning matters.) If there is a value other than -1 in rankPoints, then any 0 in winPoints should be treated as a “None”.\n",
    "\n",
    "* groupId = ID to identify a group within a match. If the same group of players plays in different matches, they will have a different groupId each time.\n",
    "\n",
    "* numGroups = Number of groups we have data for in the match.\n",
    "\n",
    "* maxPlace = Worst placement we have data for in the match. This may not match with numGroups, as sometimes the data skips over placements.\n",
    "\n",
    "* winPlacePerc = The target of prediction. This is a percentile winning placement, where 1 corresponds to 1st place, and 0 corresponds to last place in the match. It is calculated off of maxPlace, not numGroups, so it is possible to have missing chunks in a match. (Higher is better.)\n",
    "\n",
    "*Definitions pulled from Kaggle*: https://www.kaggle.com/c/pubg-finish-placement-prediction/data\n",
    "\n",
    "*Additional details added to elaborate on/clarify some of the variables.*"
   ]
  },
  {
   "cell_type": "markdown",
   "metadata": {},
   "source": [
    "### Variables we created <br/>\n",
    "\n",
    "* healItems = sum of heals + boosts\n",
    "\n",
    "* quart_binary = value is 0/1; if winPlacePerc in top quartile, value = 1, else 0.\n",
    "\n",
    "* quart_int = numeric representation of the winPlacePerc quartile.\n",
    "\n",
    "* quartile = varchar representation of quartile of winPlacePerc.\n",
    "\n",
    "* totalDistance = sum of rideDistance + swimDistance + walkDistance.\n",
    "\n",
    "* totalItems = sum of heals + boosts + weaponsAcquired.\n"
   ]
  }
 ],
 "metadata": {
  "kernelspec": {
   "display_name": "Python 3.9.12 ('base')",
   "language": "python",
   "name": "python3"
  },
  "language_info": {
   "codemirror_mode": {
    "name": "ipython",
    "version": 3
   },
   "file_extension": ".py",
   "mimetype": "text/x-python",
   "name": "python",
   "nbconvert_exporter": "python",
   "pygments_lexer": "ipython3",
   "version": "3.9.12"
  },
  "varInspector": {
   "cols": {
    "lenName": 16,
    "lenType": 16,
    "lenVar": 40
   },
   "kernels_config": {
    "python": {
     "delete_cmd_postfix": "",
     "delete_cmd_prefix": "del ",
     "library": "var_list.py",
     "varRefreshCmd": "print(var_dic_list())"
    },
    "r": {
     "delete_cmd_postfix": ") ",
     "delete_cmd_prefix": "rm(",
     "library": "var_list.r",
     "varRefreshCmd": "cat(var_dic_list()) "
    }
   },
   "types_to_exclude": [
    "module",
    "function",
    "builtin_function_or_method",
    "instance",
    "_Feature"
   ],
   "window_display": false
  },
  "vscode": {
   "interpreter": {
    "hash": "ad2bdc8ecc057115af97d19610ffacc2b4e99fae6737bb82f5d7fb13d2f2c186"
   }
  }
 },
 "nbformat": 4,
 "nbformat_minor": 4
}
